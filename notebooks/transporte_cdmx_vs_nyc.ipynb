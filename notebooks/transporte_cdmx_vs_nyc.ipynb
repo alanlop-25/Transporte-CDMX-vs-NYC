{
 "cells": [
  {
   "cell_type": "code",
   "execution_count": 1,
   "id": "80cd4053-8111-4023-856a-e7c8f1cab900",
   "metadata": {},
   "outputs": [],
   "source": [
    "#Librerias para la visualizacion y analisis\n",
    "import pandas as pd\n",
    "import numpy as np\n",
    "import matplotlib.pyplot as plt\n",
    "import seaborn as sns\n",
    "\n",
    "# Ajustes generales para graficas\n",
    "sns.set(style=\"whitegrid\")\n",
    "plt.rcParams[\"figure.figsize\"] = (10, 6)"
   ]
  },
  {
   "cell_type": "code",
   "execution_count": 49,
   "id": "317c3343-c921-4faf-8cb9-541557f891b3",
   "metadata": {},
   "outputs": [
    {
     "name": "stdout",
     "output_type": "stream",
     "text": [
      "<class 'pandas.core.frame.DataFrame'>\n",
      "RangeIndex: 1115790 entries, 0 to 1115789\n",
      "Data columns (total 6 columns):\n",
      " #   Column     Non-Null Count    Dtype \n",
      "---  ------     --------------    ----- \n",
      " 0   fecha      1115790 non-null  object\n",
      " 1   anio       1115790 non-null  int64 \n",
      " 2   mes        1115790 non-null  object\n",
      " 3   linea      1115790 non-null  object\n",
      " 4   estacion   1115790 non-null  object\n",
      " 5   afluencia  1115790 non-null  int64 \n",
      "dtypes: int64(2), object(4)\n",
      "memory usage: 51.1+ MB\n"
     ]
    },
    {
     "data": {
      "text/plain": [
       "(        fecha  anio    mes    linea            estacion  afluencia\n",
       " 0  2010-01-01  2010  Enero  Linea 1            ZARAGOZA      20227\n",
       " 1  2010-01-01  2010  Enero  Linea 1  ISABEL LA CATÓLICA       6487\n",
       " 2  2010-01-01  2010  Enero  Linea 1           MOCTEZUMA      10304\n",
       " 3  2010-01-01  2010  Enero  Linea 1         PINO SUÁREZ       8679\n",
       " 4  2010-01-01  2010  Enero  Linea 1        GÓMEZ FARÍAS      19499,\n",
       " None)"
      ]
     },
     "execution_count": 49,
     "metadata": {},
     "output_type": "execute_result"
    }
   ],
   "source": [
    "from ftfy import fix_text\n",
    "df_cdmx = pd.read_csv(\"C:/Users/anali/ALANDATA/testanalisis/AnalisisTransporte/data/afluenciastc_simple_08_2025.csv\", encoding=\"ISO-8859-1\")\n",
    "# Corregir nombres de estaciones mal codificados\n",
    "df_cdmx[\"estacion\"] = df_cdmx[\"estacion\"].apply(fix_text).str.upper()\n",
    "\n",
    "df_cdmx.head(), df_cdmx.info()"
   ]
  },
  {
   "cell_type": "code",
   "execution_count": 11,
   "id": "8cf98cb1-995d-4a1f-b946-75ac8dc62f3e",
   "metadata": {},
   "outputs": [
    {
     "data": {
      "text/html": [
       "<div>\n",
       "<style scoped>\n",
       "    .dataframe tbody tr th:only-of-type {\n",
       "        vertical-align: middle;\n",
       "    }\n",
       "\n",
       "    .dataframe tbody tr th {\n",
       "        vertical-align: top;\n",
       "    }\n",
       "\n",
       "    .dataframe thead th {\n",
       "        text-align: right;\n",
       "    }\n",
       "</style>\n",
       "<table border=\"1\" class=\"dataframe\">\n",
       "  <thead>\n",
       "    <tr style=\"text-align: right;\">\n",
       "      <th></th>\n",
       "      <th>estacion</th>\n",
       "      <th>estacion_limpia</th>\n",
       "    </tr>\n",
       "  </thead>\n",
       "  <tbody>\n",
       "    <tr>\n",
       "      <th>0</th>\n",
       "      <td>Zaragoza</td>\n",
       "      <td>Zaragoza</td>\n",
       "    </tr>\n",
       "    <tr>\n",
       "      <th>1</th>\n",
       "      <td>Isabel la CatÃÂ³lica</td>\n",
       "      <td>Isabel la CatAA3lica</td>\n",
       "    </tr>\n",
       "    <tr>\n",
       "      <th>2</th>\n",
       "      <td>Moctezuma</td>\n",
       "      <td>Moctezuma</td>\n",
       "    </tr>\n",
       "    <tr>\n",
       "      <th>3</th>\n",
       "      <td>Pino SuÃÂ¡rez</td>\n",
       "      <td>Pino SuAArez</td>\n",
       "    </tr>\n",
       "    <tr>\n",
       "      <th>4</th>\n",
       "      <td>GÃÂ³mez FarÃÂ­as</td>\n",
       "      <td>GAA3mez FarAAas</td>\n",
       "    </tr>\n",
       "    <tr>\n",
       "      <th>5</th>\n",
       "      <td>Deportivo 18 de Marzo</td>\n",
       "      <td>Deportivo 18 de Marzo</td>\n",
       "    </tr>\n",
       "    <tr>\n",
       "      <th>6</th>\n",
       "      <td>La Villa/BasÃÂ­lica</td>\n",
       "      <td>La Villa/BasAAlica</td>\n",
       "    </tr>\n",
       "    <tr>\n",
       "      <th>7</th>\n",
       "      <td>PantitlÃÂ¡n</td>\n",
       "      <td>PantitlAAn</td>\n",
       "    </tr>\n",
       "    <tr>\n",
       "      <th>8</th>\n",
       "      <td>Aculco</td>\n",
       "      <td>Aculco</td>\n",
       "    </tr>\n",
       "    <tr>\n",
       "      <th>9</th>\n",
       "      <td>VelÃÂ³dromo</td>\n",
       "      <td>VelAA3dromo</td>\n",
       "    </tr>\n",
       "  </tbody>\n",
       "</table>\n",
       "</div>"
      ],
      "text/plain": [
       "                estacion        estacion_limpia\n",
       "0               Zaragoza               Zaragoza\n",
       "1  Isabel la CatÃÂ³lica   Isabel la CatAA3lica\n",
       "2              Moctezuma              Moctezuma\n",
       "3         Pino SuÃÂ¡rez           Pino SuAArez\n",
       "4     GÃÂ³mez FarÃÂ­as        GAA3mez FarAAas\n",
       "5  Deportivo 18 de Marzo  Deportivo 18 de Marzo\n",
       "6   La Villa/BasÃÂ­lica     La Villa/BasAAlica\n",
       "7           PantitlÃÂ¡n             PantitlAAn\n",
       "8                 Aculco                 Aculco\n",
       "9           VelÃÂ³dromo            VelAA3dromo"
      ]
     },
     "execution_count": 11,
     "metadata": {},
     "output_type": "execute_result"
    }
   ],
   "source": [
    "#Normalizacion de caracteres para evitar acentos\n",
    "import unicodedata\n",
    "\n",
    "def limpiar_texto(texto):\n",
    "    if isinstance(texto, str):\n",
    "        # Normaliza el texto eliminando caracteres mal codificados\n",
    "        texto_limpio = unicodedata.normalize('NFKD', texto).encode('ASCII', 'ignore').decode('utf-8')\n",
    "        return texto_limpio\n",
    "    return texto\n",
    "\n",
    "# Aplicar a la columna 'estacion'\n",
    "df_cdmx['estacion_limpia'] = df_cdmx['estacion'].apply(limpiar_texto)\n",
    "\n",
    "# Ver las primeras estaciones\n",
    "df_cdmx[['estacion', 'estacion_limpia']].drop_duplicates().head(10)"
   ]
  },
  {
   "cell_type": "code",
   "execution_count": 13,
   "id": "27e4c9d0-d261-4ed1-abd0-4cac27e8fc6c",
   "metadata": {},
   "outputs": [
    {
     "name": "stdout",
     "output_type": "stream",
     "text": [
      "Collecting ftfy\n",
      "  Downloading ftfy-6.3.1-py3-none-any.whl.metadata (7.3 kB)\n",
      "Requirement already satisfied: wcwidth in c:\\users\\anali\\anaconda3\\lib\\site-packages (from ftfy) (0.2.5)\n",
      "Downloading ftfy-6.3.1-py3-none-any.whl (44 kB)\n",
      "Installing collected packages: ftfy\n",
      "Successfully installed ftfy-6.3.1\n"
     ]
    }
   ],
   "source": [
    "# Reparacion de texto corrupto\n",
    "!pip install ftfy"
   ]
  },
  {
   "cell_type": "code",
   "execution_count": 15,
   "id": "1d18debc-52e4-4a75-a9a6-d9670ddbf5b3",
   "metadata": {},
   "outputs": [
    {
     "data": {
      "text/html": [
       "<div>\n",
       "<style scoped>\n",
       "    .dataframe tbody tr th:only-of-type {\n",
       "        vertical-align: middle;\n",
       "    }\n",
       "\n",
       "    .dataframe tbody tr th {\n",
       "        vertical-align: top;\n",
       "    }\n",
       "\n",
       "    .dataframe thead th {\n",
       "        text-align: right;\n",
       "    }\n",
       "</style>\n",
       "<table border=\"1\" class=\"dataframe\">\n",
       "  <thead>\n",
       "    <tr style=\"text-align: right;\">\n",
       "      <th></th>\n",
       "      <th>estacion</th>\n",
       "      <th>estacion_limpia</th>\n",
       "    </tr>\n",
       "  </thead>\n",
       "  <tbody>\n",
       "    <tr>\n",
       "      <th>0</th>\n",
       "      <td>Zaragoza</td>\n",
       "      <td>Zaragoza</td>\n",
       "    </tr>\n",
       "    <tr>\n",
       "      <th>1</th>\n",
       "      <td>Isabel la CatÃÂ³lica</td>\n",
       "      <td>Isabel la Católica</td>\n",
       "    </tr>\n",
       "    <tr>\n",
       "      <th>2</th>\n",
       "      <td>Moctezuma</td>\n",
       "      <td>Moctezuma</td>\n",
       "    </tr>\n",
       "    <tr>\n",
       "      <th>3</th>\n",
       "      <td>Pino SuÃÂ¡rez</td>\n",
       "      <td>Pino Suárez</td>\n",
       "    </tr>\n",
       "    <tr>\n",
       "      <th>4</th>\n",
       "      <td>GÃÂ³mez FarÃÂ­as</td>\n",
       "      <td>Gómez Farías</td>\n",
       "    </tr>\n",
       "    <tr>\n",
       "      <th>5</th>\n",
       "      <td>Deportivo 18 de Marzo</td>\n",
       "      <td>Deportivo 18 de Marzo</td>\n",
       "    </tr>\n",
       "    <tr>\n",
       "      <th>6</th>\n",
       "      <td>La Villa/BasÃÂ­lica</td>\n",
       "      <td>La Villa/Basílica</td>\n",
       "    </tr>\n",
       "    <tr>\n",
       "      <th>7</th>\n",
       "      <td>PantitlÃÂ¡n</td>\n",
       "      <td>Pantitlán</td>\n",
       "    </tr>\n",
       "    <tr>\n",
       "      <th>8</th>\n",
       "      <td>Aculco</td>\n",
       "      <td>Aculco</td>\n",
       "    </tr>\n",
       "    <tr>\n",
       "      <th>9</th>\n",
       "      <td>VelÃÂ³dromo</td>\n",
       "      <td>Velódromo</td>\n",
       "    </tr>\n",
       "  </tbody>\n",
       "</table>\n",
       "</div>"
      ],
      "text/plain": [
       "                estacion        estacion_limpia\n",
       "0               Zaragoza               Zaragoza\n",
       "1  Isabel la CatÃÂ³lica     Isabel la Católica\n",
       "2              Moctezuma              Moctezuma\n",
       "3         Pino SuÃÂ¡rez            Pino Suárez\n",
       "4     GÃÂ³mez FarÃÂ­as           Gómez Farías\n",
       "5  Deportivo 18 de Marzo  Deportivo 18 de Marzo\n",
       "6   La Villa/BasÃÂ­lica      La Villa/Basílica\n",
       "7           PantitlÃÂ¡n              Pantitlán\n",
       "8                 Aculco                 Aculco\n",
       "9           VelÃÂ³dromo              Velódromo"
      ]
     },
     "execution_count": 15,
     "metadata": {},
     "output_type": "execute_result"
    }
   ],
   "source": [
    "from ftfy import fix_text\n",
    "\n",
    "# Aplica fix_text a la columna 'estacion'\n",
    "df_cdmx['estacion_limpia'] = df_cdmx['estacion'].apply(fix_text)\n",
    "\n",
    "# Ver resultados\n",
    "df_cdmx[['estacion', 'estacion_limpia']].drop_duplicates().head(10)"
   ]
  },
  {
   "cell_type": "code",
   "execution_count": 17,
   "id": "bb3a1d78-3794-4752-87cb-18b774f64ffa",
   "metadata": {},
   "outputs": [],
   "source": [
    "# Conversion de la columna fecha a tipo datetime\n",
    "df_cdmx[\"fecha\"] = pd.to_datetime(df_cdmx[\"fecha\"])\n",
    "\n",
    "# Nombre del día (lunes, martes...)\n",
    "df_cdmx[\"dia_semana\"] = df_cdmx[\"fecha\"].dt.day_name()\n",
    "\n",
    "# Indicador booleano para fines de semana\n",
    "df_cdmx[\"es_fin_semana\"] = df_cdmx[\"dia_semana\"].isin([\"Saturday\", \"Sunday\"])\n"
   ]
  },
  {
   "cell_type": "code",
   "execution_count": 23,
   "id": "abee897e-6d3a-404b-916b-5eaa72d5db78",
   "metadata": {},
   "outputs": [
    {
     "name": "stdout",
     "output_type": "stream",
     "text": [
      "<class 'pandas.core.frame.DataFrame'>\n",
      "RangeIndex: 10897295 entries, 0 to 10897294\n",
      "Data columns (total 11 columns):\n",
      " #   Column                                                      Dtype \n",
      "---  ------                                                      ----- \n",
      " 0   C/A                                                         object\n",
      " 1   Unit                                                        object\n",
      " 2   SCP                                                         object\n",
      " 3   Station                                                     object\n",
      " 4   Line Name                                                   object\n",
      " 5   Division                                                    object\n",
      " 6   Date                                                        object\n",
      " 7   Time                                                        object\n",
      " 8   Description                                                 object\n",
      " 9   Entries                                                     int64 \n",
      " 10  Exits                                                       int64 \n",
      "dtypes: int64(2), object(9)\n",
      "memory usage: 914.5+ MB\n"
     ]
    },
    {
     "data": {
      "text/plain": [
       "(    C/A  Unit       SCP Station Line Name Division        Date      Time  \\\n",
       " 0  R196  R306  00-00-01  238 ST         1      IRT  01/23/2021  00:00:00   \n",
       " 1  R196  R306  00-00-01  238 ST         1      IRT  01/23/2021  04:00:00   \n",
       " 2  R196  R306  00-00-01  238 ST         1      IRT  01/23/2021  08:00:00   \n",
       " 3  R196  R306  00-00-01  238 ST         1      IRT  01/23/2021  12:00:00   \n",
       " 4  R196  R306  00-00-01  238 ST         1      IRT  01/23/2021  16:00:00   \n",
       " \n",
       "   Description  Entries  \\\n",
       " 0     REGULAR  8807397   \n",
       " 1     REGULAR  8807397   \n",
       " 2     REGULAR  8807397   \n",
       " 3     REGULAR  8807397   \n",
       " 4     REGULAR  8807397   \n",
       " \n",
       "    Exits                                                       \n",
       " 0                                             415738           \n",
       " 1                                             415739           \n",
       " 2                                             415740           \n",
       " 3                                             415740           \n",
       " 4                                             415740           ,\n",
       " None)"
      ]
     },
     "execution_count": 23,
     "metadata": {},
     "output_type": "execute_result"
    }
   ],
   "source": [
    "#Carga de dataframe de NYC\n",
    "df_nyc = pd.read_csv(\"C:/Users/anali/ALANDATA/testanalisis/AnalisisTransporte/data/MTA_Subway_Turnstile_Usage_Data__2021.csv\")\n",
    "df_nyc.head(), df_nyc.info()"
   ]
  },
  {
   "cell_type": "code",
   "execution_count": 45,
   "id": "e1aec81c-5328-4ec8-83c4-67f9246b7a64",
   "metadata": {},
   "outputs": [
    {
     "name": "stdout",
     "output_type": "stream",
     "text": [
      "Filas con datetime no convertible:\n",
      "Empty DataFrame\n",
      "Columns: [Date, Time]\n",
      "Index: []\n"
     ]
    }
   ],
   "source": [
    "# Convertir fecha y hora\n",
    "df_nyc[\"datetime\"] = pd.to_datetime(df_nyc[\"Date\"] + \" \" + df_nyc[\"Time\"], errors='coerce')\n",
    "\n",
    "print(\"Filas con datetime no convertible:\")\n",
    "print(df_nyc[df_nyc[\"datetime\"].isna()][[\"Date\", \"Time\"]])\n",
    "\n",
    "# Eliminar filas con datetime NaT si las hay\n",
    "df_nyc = df_nyc.dropna(subset=[\"datetime\"])\n",
    "\n",
    "\n",
    "# Extraer año\n",
    "df_nyc[\"year\"] = df_nyc[\"datetime\"].dt.year\n",
    "\n",
    "# Filtrar solo 2021\n",
    "df_nyc_2021 = df_nyc[df_nyc[\"year\"] == 2021].copy()"
   ]
  },
  {
   "cell_type": "code",
   "execution_count": 39,
   "id": "d9c1f02f-1f21-4f7c-ab80-db8ebd105d9d",
   "metadata": {},
   "outputs": [
    {
     "name": "stdout",
     "output_type": "stream",
     "text": [
      "Filas con datetime no convertible:\n",
      "Empty DataFrame\n",
      "Columns: [Date, Time]\n",
      "Index: []\n"
     ]
    }
   ],
   "source": [
    "#Limpieza de espacios\n",
    "df_nyc[\"Time\"] = df_nyc[\"Time\"].str.strip()\n",
    "df_nyc[\"datetime\"] = pd.to_datetime(df_nyc[\"Date\"] + \" \" + df_nyc[\"Time\"], errors='coerce')\n",
    "print(\"Filas con datetime no convertible:\")\n",
    "print(df_nyc[df_nyc[\"datetime\"].isna()][[\"Date\", \"Time\"]])\n",
    "\n",
    "df_nyc = df_nyc.dropna(subset=[\"datetime\"])"
   ]
  },
  {
   "cell_type": "code",
   "execution_count": 41,
   "id": "ef2efd42-98a4-4bfa-9157-94490d824ccd",
   "metadata": {},
   "outputs": [
    {
     "data": {
      "text/html": [
       "<div>\n",
       "<style scoped>\n",
       "    .dataframe tbody tr th:only-of-type {\n",
       "        vertical-align: middle;\n",
       "    }\n",
       "\n",
       "    .dataframe tbody tr th {\n",
       "        vertical-align: top;\n",
       "    }\n",
       "\n",
       "    .dataframe thead th {\n",
       "        text-align: right;\n",
       "    }\n",
       "</style>\n",
       "<table border=\"1\" class=\"dataframe\">\n",
       "  <thead>\n",
       "    <tr style=\"text-align: right;\">\n",
       "      <th></th>\n",
       "      <th>C/A</th>\n",
       "      <th>Unit</th>\n",
       "      <th>SCP</th>\n",
       "      <th>Station</th>\n",
       "      <th>Line Name</th>\n",
       "      <th>Division</th>\n",
       "      <th>Date</th>\n",
       "      <th>Time</th>\n",
       "      <th>Description</th>\n",
       "      <th>Entries</th>\n",
       "      <th>Exits</th>\n",
       "      <th>datetime</th>\n",
       "      <th>year</th>\n",
       "      <th>entries_diff</th>\n",
       "    </tr>\n",
       "  </thead>\n",
       "  <tbody>\n",
       "    <tr>\n",
       "      <th>6039775</th>\n",
       "      <td>A002</td>\n",
       "      <td>R051</td>\n",
       "      <td>02-00-00</td>\n",
       "      <td>59 ST</td>\n",
       "      <td>NQR456W</td>\n",
       "      <td>BMT</td>\n",
       "      <td>01/02/2021</td>\n",
       "      <td>03:00:00</td>\n",
       "      <td>REGULAR</td>\n",
       "      <td>7511653</td>\n",
       "      <td>2558871</td>\n",
       "      <td>2021-01-02 03:00:00</td>\n",
       "      <td>2021</td>\n",
       "      <td>NaN</td>\n",
       "    </tr>\n",
       "    <tr>\n",
       "      <th>6039776</th>\n",
       "      <td>A002</td>\n",
       "      <td>R051</td>\n",
       "      <td>02-00-00</td>\n",
       "      <td>59 ST</td>\n",
       "      <td>NQR456W</td>\n",
       "      <td>BMT</td>\n",
       "      <td>01/02/2021</td>\n",
       "      <td>07:00:00</td>\n",
       "      <td>REGULAR</td>\n",
       "      <td>7511655</td>\n",
       "      <td>2558877</td>\n",
       "      <td>2021-01-02 07:00:00</td>\n",
       "      <td>2021</td>\n",
       "      <td>2.0</td>\n",
       "    </tr>\n",
       "    <tr>\n",
       "      <th>6039777</th>\n",
       "      <td>A002</td>\n",
       "      <td>R051</td>\n",
       "      <td>02-00-00</td>\n",
       "      <td>59 ST</td>\n",
       "      <td>NQR456W</td>\n",
       "      <td>BMT</td>\n",
       "      <td>01/02/2021</td>\n",
       "      <td>11:00:00</td>\n",
       "      <td>REGULAR</td>\n",
       "      <td>7511677</td>\n",
       "      <td>2558930</td>\n",
       "      <td>2021-01-02 11:00:00</td>\n",
       "      <td>2021</td>\n",
       "      <td>22.0</td>\n",
       "    </tr>\n",
       "    <tr>\n",
       "      <th>6039778</th>\n",
       "      <td>A002</td>\n",
       "      <td>R051</td>\n",
       "      <td>02-00-00</td>\n",
       "      <td>59 ST</td>\n",
       "      <td>NQR456W</td>\n",
       "      <td>BMT</td>\n",
       "      <td>01/02/2021</td>\n",
       "      <td>15:00:00</td>\n",
       "      <td>REGULAR</td>\n",
       "      <td>7511766</td>\n",
       "      <td>2558968</td>\n",
       "      <td>2021-01-02 15:00:00</td>\n",
       "      <td>2021</td>\n",
       "      <td>89.0</td>\n",
       "    </tr>\n",
       "    <tr>\n",
       "      <th>6039779</th>\n",
       "      <td>A002</td>\n",
       "      <td>R051</td>\n",
       "      <td>02-00-00</td>\n",
       "      <td>59 ST</td>\n",
       "      <td>NQR456W</td>\n",
       "      <td>BMT</td>\n",
       "      <td>01/02/2021</td>\n",
       "      <td>19:00:00</td>\n",
       "      <td>REGULAR</td>\n",
       "      <td>7511912</td>\n",
       "      <td>2558999</td>\n",
       "      <td>2021-01-02 19:00:00</td>\n",
       "      <td>2021</td>\n",
       "      <td>146.0</td>\n",
       "    </tr>\n",
       "  </tbody>\n",
       "</table>\n",
       "</div>"
      ],
      "text/plain": [
       "          C/A  Unit       SCP Station Line Name Division        Date  \\\n",
       "6039775  A002  R051  02-00-00   59 ST   NQR456W      BMT  01/02/2021   \n",
       "6039776  A002  R051  02-00-00   59 ST   NQR456W      BMT  01/02/2021   \n",
       "6039777  A002  R051  02-00-00   59 ST   NQR456W      BMT  01/02/2021   \n",
       "6039778  A002  R051  02-00-00   59 ST   NQR456W      BMT  01/02/2021   \n",
       "6039779  A002  R051  02-00-00   59 ST   NQR456W      BMT  01/02/2021   \n",
       "\n",
       "             Time Description  Entries  \\\n",
       "6039775  03:00:00     REGULAR  7511653   \n",
       "6039776  07:00:00     REGULAR  7511655   \n",
       "6039777  11:00:00     REGULAR  7511677   \n",
       "6039778  15:00:00     REGULAR  7511766   \n",
       "6039779  19:00:00     REGULAR  7511912   \n",
       "\n",
       "         Exits                                                       \\\n",
       "6039775                                            2558871            \n",
       "6039776                                            2558877            \n",
       "6039777                                            2558930            \n",
       "6039778                                            2558968            \n",
       "6039779                                            2558999            \n",
       "\n",
       "                   datetime  year  entries_diff  \n",
       "6039775 2021-01-02 03:00:00  2021           NaN  \n",
       "6039776 2021-01-02 07:00:00  2021           2.0  \n",
       "6039777 2021-01-02 11:00:00  2021          22.0  \n",
       "6039778 2021-01-02 15:00:00  2021          89.0  \n",
       "6039779 2021-01-02 19:00:00  2021         146.0  "
      ]
     },
     "execution_count": 41,
     "metadata": {},
     "output_type": "execute_result"
    }
   ],
   "source": [
    "# Ordenar por estación y datetime para cálculo posterior\n",
    "df_nyc_2021.sort_values([\"C/A\", \"Unit\", \"SCP\", \"Station\", \"datetime\"], inplace=True)\n",
    "\n",
    "# Calcular diferencias en 'Entries' para obtener entradas reales por intervalo\n",
    "df_nyc_2021[\"entries_diff\"] = df_nyc_2021.groupby([\"C/A\", \"Unit\", \"SCP\", \"Station\"])[\"Entries\"].diff()\n",
    "\n",
    "# Limpiar valores negativos o inconsistentes\n",
    "df_nyc_2021[\"entries_diff\"] = df_nyc_2021[\"entries_diff\"].clip(lower=0, upper=10000)\n",
    "\n",
    "# Mostrar un resumen para verificar\n",
    "df_nyc_2021.head()"
   ]
  },
  {
   "cell_type": "code",
   "execution_count": 43,
   "id": "2c58bd69-5961-4b8f-be03-7ad72d0281e1",
   "metadata": {},
   "outputs": [
    {
     "data": {
      "text/html": [
       "<div>\n",
       "<style scoped>\n",
       "    .dataframe tbody tr th:only-of-type {\n",
       "        vertical-align: middle;\n",
       "    }\n",
       "\n",
       "    .dataframe tbody tr th {\n",
       "        vertical-align: top;\n",
       "    }\n",
       "\n",
       "    .dataframe thead th {\n",
       "        text-align: right;\n",
       "    }\n",
       "</style>\n",
       "<table border=\"1\" class=\"dataframe\">\n",
       "  <thead>\n",
       "    <tr style=\"text-align: right;\">\n",
       "      <th></th>\n",
       "      <th>Station</th>\n",
       "      <th>peak_period</th>\n",
       "      <th>total_entries</th>\n",
       "    </tr>\n",
       "  </thead>\n",
       "  <tbody>\n",
       "    <tr>\n",
       "      <th>0</th>\n",
       "      <td>1 AV</td>\n",
       "      <td>off_peak</td>\n",
       "      <td>1783363.0</td>\n",
       "    </tr>\n",
       "    <tr>\n",
       "      <th>1</th>\n",
       "      <td>1 AV</td>\n",
       "      <td>peak_evening</td>\n",
       "      <td>741763.0</td>\n",
       "    </tr>\n",
       "    <tr>\n",
       "      <th>2</th>\n",
       "      <td>1 AV</td>\n",
       "      <td>peak_morning</td>\n",
       "      <td>124171.0</td>\n",
       "    </tr>\n",
       "    <tr>\n",
       "      <th>3</th>\n",
       "      <td>103 ST</td>\n",
       "      <td>off_peak</td>\n",
       "      <td>2097913.0</td>\n",
       "    </tr>\n",
       "    <tr>\n",
       "      <th>4</th>\n",
       "      <td>103 ST</td>\n",
       "      <td>peak_evening</td>\n",
       "      <td>1136452.0</td>\n",
       "    </tr>\n",
       "  </tbody>\n",
       "</table>\n",
       "</div>"
      ],
      "text/plain": [
       "  Station   peak_period  total_entries\n",
       "0    1 AV      off_peak      1783363.0\n",
       "1    1 AV  peak_evening       741763.0\n",
       "2    1 AV  peak_morning       124171.0\n",
       "3  103 ST      off_peak      2097913.0\n",
       "4  103 ST  peak_evening      1136452.0"
      ]
     },
     "execution_count": 43,
     "metadata": {},
     "output_type": "execute_result"
    }
   ],
   "source": [
    "# NYC\n",
    "# Hora pico mañana: 6:00 AM a 10:00 AM\n",
    "\n",
    "# Hora pico tarde: 4:00 PM a 8:00 PM\n",
    "\n",
    "# No pico: resto del día\n",
    "\n",
    "def classify_peak(hour):\n",
    "    if 6 <= hour < 10:\n",
    "        return \"peak_morning\"\n",
    "    elif 16 <= hour < 20:\n",
    "        return \"peak_evening\"\n",
    "    else:\n",
    "        return \"off_peak\"\n",
    "\n",
    "df_nyc_2021[\"hour\"] = df_nyc_2021[\"datetime\"].dt.hour\n",
    "df_nyc_2021[\"peak_period\"] = df_nyc_2021[\"hour\"].apply(classify_peak)\n",
    "\n",
    "# Agrupar por estación y periodo de hora\n",
    "agg_nyc = (\n",
    "    df_nyc_2021.groupby([\"Station\", \"peak_period\"])[\"entries_diff\"]\n",
    "    .sum()\n",
    "    .reset_index()\n",
    "    .rename(columns={\"entries_diff\": \"total_entries\"})\n",
    ")\n",
    "\n",
    "# Ver primeras filas\n",
    "agg_nyc.head()"
   ]
  },
  {
   "cell_type": "code",
   "execution_count": 107,
   "id": "f2e7a90d-bdb4-44ad-a8f7-03e2add954d9",
   "metadata": {},
   "outputs": [],
   "source": [
    "# Conversion de fecha\n",
    "df_cdmx['fecha'] = pd.to_datetime(df_cdmx['fecha'])\n",
    "\n",
    "# Filtrar CDMX solo para 2021\n",
    "df_cdmx_2021 = df_cdmx[df_cdmx['fecha'].dt.year == 2021]"
   ]
  },
  {
   "cell_type": "code",
   "execution_count": 131,
   "id": "2cab2e5a-cb4d-43c5-92bf-312fecdf8e86",
   "metadata": {},
   "outputs": [
    {
     "name": "stdout",
     "output_type": "stream",
     "text": [
      "year\n",
      "2021    71175\n",
      "Name: count, dtype: int64\n"
     ]
    }
   ],
   "source": [
    "# Verificar si hay datos de 2021 únicamente\n",
    "df_cdmx_2021.loc[:,'year'] = pd.to_datetime(df_cdmx_2021['fecha']).dt.year\n",
    "print(df_cdmx_2021.loc[:,'year'].value_counts().sort_index())"
   ]
  },
  {
   "cell_type": "code",
   "execution_count": 133,
   "id": "96c91747-6de5-4ca6-8dee-47bdd2515ecc",
   "metadata": {},
   "outputs": [
    {
     "data": {
      "text/html": [
       "<div>\n",
       "<style scoped>\n",
       "    .dataframe tbody tr th:only-of-type {\n",
       "        vertical-align: middle;\n",
       "    }\n",
       "\n",
       "    .dataframe tbody tr th {\n",
       "        vertical-align: top;\n",
       "    }\n",
       "\n",
       "    .dataframe thead th {\n",
       "        text-align: right;\n",
       "    }\n",
       "</style>\n",
       "<table border=\"1\" class=\"dataframe\">\n",
       "  <thead>\n",
       "    <tr style=\"text-align: right;\">\n",
       "      <th></th>\n",
       "      <th>Station</th>\n",
       "      <th>peak_period</th>\n",
       "      <th>total_entries</th>\n",
       "    </tr>\n",
       "  </thead>\n",
       "  <tbody>\n",
       "    <tr>\n",
       "      <th>0</th>\n",
       "      <td>ACATITLA</td>\n",
       "      <td>peak_morning</td>\n",
       "      <td>1092207.3</td>\n",
       "    </tr>\n",
       "    <tr>\n",
       "      <th>1</th>\n",
       "      <td>ACULCO</td>\n",
       "      <td>peak_morning</td>\n",
       "      <td>695065.2</td>\n",
       "    </tr>\n",
       "    <tr>\n",
       "      <th>2</th>\n",
       "      <td>AGRÍCOLA ORIENTAL</td>\n",
       "      <td>peak_morning</td>\n",
       "      <td>830430.3</td>\n",
       "    </tr>\n",
       "    <tr>\n",
       "      <th>3</th>\n",
       "      <td>ALLENDE</td>\n",
       "      <td>peak_morning</td>\n",
       "      <td>1275057.6</td>\n",
       "    </tr>\n",
       "    <tr>\n",
       "      <th>4</th>\n",
       "      <td>APATLACO</td>\n",
       "      <td>peak_morning</td>\n",
       "      <td>1102896.9</td>\n",
       "    </tr>\n",
       "  </tbody>\n",
       "</table>\n",
       "</div>"
      ],
      "text/plain": [
       "             Station   peak_period  total_entries\n",
       "0           ACATITLA  peak_morning      1092207.3\n",
       "1             ACULCO  peak_morning       695065.2\n",
       "2  AGRÍCOLA ORIENTAL  peak_morning       830430.3\n",
       "3            ALLENDE  peak_morning      1275057.6\n",
       "4           APATLACO  peak_morning      1102896.9"
      ]
     },
     "execution_count": 133,
     "metadata": {},
     "output_type": "execute_result"
    }
   ],
   "source": [
    "# Suposiciones: \n",
    "# 60% del flujo diario ocurre en hora pico (mañana y tarde).\n",
    "# Resto (40%) en horas normales\n",
    "\n",
    "# Convertir nombres de estaciones a mayúsculas para estandarizar \n",
    "df_cdmx_2021.loc[:,\"estacion\"] = df_cdmx_2021[\"estacion\"].str.upper()\n",
    "\n",
    "# Estimar afluencia por periodo\n",
    "# Nota: En el caso de CDMX, los porcentajes de flujo por periodo (30% mañana, 30% tarde, 40% fuera de pico) \n",
    "# se asumieron de forma práctica para propósitos de estimación, ya que los datos originales solo están disponibles como flujo diario.\n",
    "\n",
    "df_cdmx_2021.loc[:,\"peak_morning\"] = df_cdmx_2021[\"afluencia\"] * 0.3\n",
    "df_cdmx_2021.loc[:,\"peak_evening\"] = df_cdmx_2021[\"afluencia\"] * 0.3\n",
    "df_cdmx_2021.loc[:,\"off_peak\"] = df_cdmx_2021[\"afluencia\"] * 0.4\n",
    "\n",
    "# Agrupar por estación y sumar entradas del año\n",
    "agg_cdmx_2021 = df_cdmx_2021.groupby(\"estacion\")[[\"peak_morning\", \"peak_evening\", \"off_peak\"]].sum().reset_index()\n",
    "\n",
    "# Reorganizar para tener una estructura similar a la de NYC\n",
    "agg_cdmx_melted = agg_cdmx_2021.melt(\n",
    "    id_vars=\"estacion\", \n",
    "    value_vars=[\"peak_morning\", \"peak_evening\", \"off_peak\"],\n",
    "    var_name=\"peak_period\", \n",
    "    value_name=\"total_entries\"\n",
    ")\n",
    "\n",
    "# Normalizar nombre de columna\n",
    "agg_cdmx_melted.rename(columns={\"estacion\": \"Station\"}, inplace=True)\n",
    "\n",
    "# Ver primeras filas\n",
    "agg_cdmx_melted.head()"
   ]
  },
  {
   "cell_type": "code",
   "execution_count": 127,
   "id": "3e4f3048-c8c4-4819-934d-4a440a779b61",
   "metadata": {},
   "outputs": [
    {
     "data": {
      "application/vnd.plotly.v1+json": {
       "config": {
        "plotlyServerURL": "https://plot.ly"
       },
       "data": [
        {
         "alignmentgroup": "True",
         "hovertemplate": "peak_period=off_peak<br>Sistema=%{x}<br>Porcentaje de entradas=%{y}<br>text=%{text}<extra></extra>",
         "legendgroup": "off_peak",
         "marker": {
          "color": "#636efa",
          "pattern": {
           "shape": ""
          }
         },
         "name": "off_peak",
         "offsetgroup": "off_peak",
         "orientation": "v",
         "showlegend": true,
         "text": [
          "40.0%",
          "59.29%"
         ],
         "textposition": "auto",
         "type": "bar",
         "x": [
          "CDMX",
          "NYC"
         ],
         "xaxis": "x",
         "y": [
          40,
          59.28696472612612
         ],
         "yaxis": "y"
        },
        {
         "alignmentgroup": "True",
         "hovertemplate": "peak_period=peak_evening<br>Sistema=%{x}<br>Porcentaje de entradas=%{y}<br>text=%{text}<extra></extra>",
         "legendgroup": "peak_evening",
         "marker": {
          "color": "#EF553B",
          "pattern": {
           "shape": ""
          }
         },
         "name": "peak_evening",
         "offsetgroup": "peak_evening",
         "orientation": "v",
         "showlegend": true,
         "text": [
          "30.0%",
          "26.21%"
         ],
         "textposition": "auto",
         "type": "bar",
         "x": [
          "CDMX",
          "NYC"
         ],
         "xaxis": "x",
         "y": [
          30,
          26.2071137555063
         ],
         "yaxis": "y"
        },
        {
         "alignmentgroup": "True",
         "hovertemplate": "peak_period=peak_morning<br>Sistema=%{x}<br>Porcentaje de entradas=%{y}<br>text=%{text}<extra></extra>",
         "legendgroup": "peak_morning",
         "marker": {
          "color": "#00cc96",
          "pattern": {
           "shape": ""
          }
         },
         "name": "peak_morning",
         "offsetgroup": "peak_morning",
         "orientation": "v",
         "showlegend": true,
         "text": [
          "30.0%",
          "14.51%"
         ],
         "textposition": "auto",
         "type": "bar",
         "x": [
          "CDMX",
          "NYC"
         ],
         "xaxis": "x",
         "y": [
          30,
          14.505921518367575
         ],
         "yaxis": "y"
        }
       ],
       "layout": {
        "autosize": true,
        "barmode": "stack",
        "legend": {
         "title": {
          "text": "peak_period"
         },
         "tracegroupgap": 0
        },
        "template": {
         "data": {
          "bar": [
           {
            "error_x": {
             "color": "#2a3f5f"
            },
            "error_y": {
             "color": "#2a3f5f"
            },
            "marker": {
             "line": {
              "color": "#E5ECF6",
              "width": 0.5
             },
             "pattern": {
              "fillmode": "overlay",
              "size": 10,
              "solidity": 0.2
             }
            },
            "type": "bar"
           }
          ],
          "barpolar": [
           {
            "marker": {
             "line": {
              "color": "#E5ECF6",
              "width": 0.5
             },
             "pattern": {
              "fillmode": "overlay",
              "size": 10,
              "solidity": 0.2
             }
            },
            "type": "barpolar"
           }
          ],
          "carpet": [
           {
            "aaxis": {
             "endlinecolor": "#2a3f5f",
             "gridcolor": "white",
             "linecolor": "white",
             "minorgridcolor": "white",
             "startlinecolor": "#2a3f5f"
            },
            "baxis": {
             "endlinecolor": "#2a3f5f",
             "gridcolor": "white",
             "linecolor": "white",
             "minorgridcolor": "white",
             "startlinecolor": "#2a3f5f"
            },
            "type": "carpet"
           }
          ],
          "choropleth": [
           {
            "colorbar": {
             "outlinewidth": 0,
             "ticks": ""
            },
            "type": "choropleth"
           }
          ],
          "contour": [
           {
            "colorbar": {
             "outlinewidth": 0,
             "ticks": ""
            },
            "colorscale": [
             [
              0,
              "#0d0887"
             ],
             [
              0.1111111111111111,
              "#46039f"
             ],
             [
              0.2222222222222222,
              "#7201a8"
             ],
             [
              0.3333333333333333,
              "#9c179e"
             ],
             [
              0.4444444444444444,
              "#bd3786"
             ],
             [
              0.5555555555555556,
              "#d8576b"
             ],
             [
              0.6666666666666666,
              "#ed7953"
             ],
             [
              0.7777777777777778,
              "#fb9f3a"
             ],
             [
              0.8888888888888888,
              "#fdca26"
             ],
             [
              1,
              "#f0f921"
             ]
            ],
            "type": "contour"
           }
          ],
          "contourcarpet": [
           {
            "colorbar": {
             "outlinewidth": 0,
             "ticks": ""
            },
            "type": "contourcarpet"
           }
          ],
          "heatmap": [
           {
            "colorbar": {
             "outlinewidth": 0,
             "ticks": ""
            },
            "colorscale": [
             [
              0,
              "#0d0887"
             ],
             [
              0.1111111111111111,
              "#46039f"
             ],
             [
              0.2222222222222222,
              "#7201a8"
             ],
             [
              0.3333333333333333,
              "#9c179e"
             ],
             [
              0.4444444444444444,
              "#bd3786"
             ],
             [
              0.5555555555555556,
              "#d8576b"
             ],
             [
              0.6666666666666666,
              "#ed7953"
             ],
             [
              0.7777777777777778,
              "#fb9f3a"
             ],
             [
              0.8888888888888888,
              "#fdca26"
             ],
             [
              1,
              "#f0f921"
             ]
            ],
            "type": "heatmap"
           }
          ],
          "heatmapgl": [
           {
            "colorbar": {
             "outlinewidth": 0,
             "ticks": ""
            },
            "colorscale": [
             [
              0,
              "#0d0887"
             ],
             [
              0.1111111111111111,
              "#46039f"
             ],
             [
              0.2222222222222222,
              "#7201a8"
             ],
             [
              0.3333333333333333,
              "#9c179e"
             ],
             [
              0.4444444444444444,
              "#bd3786"
             ],
             [
              0.5555555555555556,
              "#d8576b"
             ],
             [
              0.6666666666666666,
              "#ed7953"
             ],
             [
              0.7777777777777778,
              "#fb9f3a"
             ],
             [
              0.8888888888888888,
              "#fdca26"
             ],
             [
              1,
              "#f0f921"
             ]
            ],
            "type": "heatmapgl"
           }
          ],
          "histogram": [
           {
            "marker": {
             "pattern": {
              "fillmode": "overlay",
              "size": 10,
              "solidity": 0.2
             }
            },
            "type": "histogram"
           }
          ],
          "histogram2d": [
           {
            "colorbar": {
             "outlinewidth": 0,
             "ticks": ""
            },
            "colorscale": [
             [
              0,
              "#0d0887"
             ],
             [
              0.1111111111111111,
              "#46039f"
             ],
             [
              0.2222222222222222,
              "#7201a8"
             ],
             [
              0.3333333333333333,
              "#9c179e"
             ],
             [
              0.4444444444444444,
              "#bd3786"
             ],
             [
              0.5555555555555556,
              "#d8576b"
             ],
             [
              0.6666666666666666,
              "#ed7953"
             ],
             [
              0.7777777777777778,
              "#fb9f3a"
             ],
             [
              0.8888888888888888,
              "#fdca26"
             ],
             [
              1,
              "#f0f921"
             ]
            ],
            "type": "histogram2d"
           }
          ],
          "histogram2dcontour": [
           {
            "colorbar": {
             "outlinewidth": 0,
             "ticks": ""
            },
            "colorscale": [
             [
              0,
              "#0d0887"
             ],
             [
              0.1111111111111111,
              "#46039f"
             ],
             [
              0.2222222222222222,
              "#7201a8"
             ],
             [
              0.3333333333333333,
              "#9c179e"
             ],
             [
              0.4444444444444444,
              "#bd3786"
             ],
             [
              0.5555555555555556,
              "#d8576b"
             ],
             [
              0.6666666666666666,
              "#ed7953"
             ],
             [
              0.7777777777777778,
              "#fb9f3a"
             ],
             [
              0.8888888888888888,
              "#fdca26"
             ],
             [
              1,
              "#f0f921"
             ]
            ],
            "type": "histogram2dcontour"
           }
          ],
          "mesh3d": [
           {
            "colorbar": {
             "outlinewidth": 0,
             "ticks": ""
            },
            "type": "mesh3d"
           }
          ],
          "parcoords": [
           {
            "line": {
             "colorbar": {
              "outlinewidth": 0,
              "ticks": ""
             }
            },
            "type": "parcoords"
           }
          ],
          "pie": [
           {
            "automargin": true,
            "type": "pie"
           }
          ],
          "scatter": [
           {
            "fillpattern": {
             "fillmode": "overlay",
             "size": 10,
             "solidity": 0.2
            },
            "type": "scatter"
           }
          ],
          "scatter3d": [
           {
            "line": {
             "colorbar": {
              "outlinewidth": 0,
              "ticks": ""
             }
            },
            "marker": {
             "colorbar": {
              "outlinewidth": 0,
              "ticks": ""
             }
            },
            "type": "scatter3d"
           }
          ],
          "scattercarpet": [
           {
            "marker": {
             "colorbar": {
              "outlinewidth": 0,
              "ticks": ""
             }
            },
            "type": "scattercarpet"
           }
          ],
          "scattergeo": [
           {
            "marker": {
             "colorbar": {
              "outlinewidth": 0,
              "ticks": ""
             }
            },
            "type": "scattergeo"
           }
          ],
          "scattergl": [
           {
            "marker": {
             "colorbar": {
              "outlinewidth": 0,
              "ticks": ""
             }
            },
            "type": "scattergl"
           }
          ],
          "scattermapbox": [
           {
            "marker": {
             "colorbar": {
              "outlinewidth": 0,
              "ticks": ""
             }
            },
            "type": "scattermapbox"
           }
          ],
          "scatterpolar": [
           {
            "marker": {
             "colorbar": {
              "outlinewidth": 0,
              "ticks": ""
             }
            },
            "type": "scatterpolar"
           }
          ],
          "scatterpolargl": [
           {
            "marker": {
             "colorbar": {
              "outlinewidth": 0,
              "ticks": ""
             }
            },
            "type": "scatterpolargl"
           }
          ],
          "scatterternary": [
           {
            "marker": {
             "colorbar": {
              "outlinewidth": 0,
              "ticks": ""
             }
            },
            "type": "scatterternary"
           }
          ],
          "surface": [
           {
            "colorbar": {
             "outlinewidth": 0,
             "ticks": ""
            },
            "colorscale": [
             [
              0,
              "#0d0887"
             ],
             [
              0.1111111111111111,
              "#46039f"
             ],
             [
              0.2222222222222222,
              "#7201a8"
             ],
             [
              0.3333333333333333,
              "#9c179e"
             ],
             [
              0.4444444444444444,
              "#bd3786"
             ],
             [
              0.5555555555555556,
              "#d8576b"
             ],
             [
              0.6666666666666666,
              "#ed7953"
             ],
             [
              0.7777777777777778,
              "#fb9f3a"
             ],
             [
              0.8888888888888888,
              "#fdca26"
             ],
             [
              1,
              "#f0f921"
             ]
            ],
            "type": "surface"
           }
          ],
          "table": [
           {
            "cells": {
             "fill": {
              "color": "#EBF0F8"
             },
             "line": {
              "color": "white"
             }
            },
            "header": {
             "fill": {
              "color": "#C8D4E3"
             },
             "line": {
              "color": "white"
             }
            },
            "type": "table"
           }
          ]
         },
         "layout": {
          "annotationdefaults": {
           "arrowcolor": "#2a3f5f",
           "arrowhead": 0,
           "arrowwidth": 1
          },
          "autotypenumbers": "strict",
          "coloraxis": {
           "colorbar": {
            "outlinewidth": 0,
            "ticks": ""
           }
          },
          "colorscale": {
           "diverging": [
            [
             0,
             "#8e0152"
            ],
            [
             0.1,
             "#c51b7d"
            ],
            [
             0.2,
             "#de77ae"
            ],
            [
             0.3,
             "#f1b6da"
            ],
            [
             0.4,
             "#fde0ef"
            ],
            [
             0.5,
             "#f7f7f7"
            ],
            [
             0.6,
             "#e6f5d0"
            ],
            [
             0.7,
             "#b8e186"
            ],
            [
             0.8,
             "#7fbc41"
            ],
            [
             0.9,
             "#4d9221"
            ],
            [
             1,
             "#276419"
            ]
           ],
           "sequential": [
            [
             0,
             "#0d0887"
            ],
            [
             0.1111111111111111,
             "#46039f"
            ],
            [
             0.2222222222222222,
             "#7201a8"
            ],
            [
             0.3333333333333333,
             "#9c179e"
            ],
            [
             0.4444444444444444,
             "#bd3786"
            ],
            [
             0.5555555555555556,
             "#d8576b"
            ],
            [
             0.6666666666666666,
             "#ed7953"
            ],
            [
             0.7777777777777778,
             "#fb9f3a"
            ],
            [
             0.8888888888888888,
             "#fdca26"
            ],
            [
             1,
             "#f0f921"
            ]
           ],
           "sequentialminus": [
            [
             0,
             "#0d0887"
            ],
            [
             0.1111111111111111,
             "#46039f"
            ],
            [
             0.2222222222222222,
             "#7201a8"
            ],
            [
             0.3333333333333333,
             "#9c179e"
            ],
            [
             0.4444444444444444,
             "#bd3786"
            ],
            [
             0.5555555555555556,
             "#d8576b"
            ],
            [
             0.6666666666666666,
             "#ed7953"
            ],
            [
             0.7777777777777778,
             "#fb9f3a"
            ],
            [
             0.8888888888888888,
             "#fdca26"
            ],
            [
             1,
             "#f0f921"
            ]
           ]
          },
          "colorway": [
           "#636efa",
           "#EF553B",
           "#00cc96",
           "#ab63fa",
           "#FFA15A",
           "#19d3f3",
           "#FF6692",
           "#B6E880",
           "#FF97FF",
           "#FECB52"
          ],
          "font": {
           "color": "#2a3f5f"
          },
          "geo": {
           "bgcolor": "white",
           "lakecolor": "white",
           "landcolor": "#E5ECF6",
           "showlakes": true,
           "showland": true,
           "subunitcolor": "white"
          },
          "hoverlabel": {
           "align": "left"
          },
          "hovermode": "closest",
          "mapbox": {
           "style": "light"
          },
          "paper_bgcolor": "white",
          "plot_bgcolor": "#E5ECF6",
          "polar": {
           "angularaxis": {
            "gridcolor": "white",
            "linecolor": "white",
            "ticks": ""
           },
           "bgcolor": "#E5ECF6",
           "radialaxis": {
            "gridcolor": "white",
            "linecolor": "white",
            "ticks": ""
           }
          },
          "scene": {
           "xaxis": {
            "backgroundcolor": "#E5ECF6",
            "gridcolor": "white",
            "gridwidth": 2,
            "linecolor": "white",
            "showbackground": true,
            "ticks": "",
            "zerolinecolor": "white"
           },
           "yaxis": {
            "backgroundcolor": "#E5ECF6",
            "gridcolor": "white",
            "gridwidth": 2,
            "linecolor": "white",
            "showbackground": true,
            "ticks": "",
            "zerolinecolor": "white"
           },
           "zaxis": {
            "backgroundcolor": "#E5ECF6",
            "gridcolor": "white",
            "gridwidth": 2,
            "linecolor": "white",
            "showbackground": true,
            "ticks": "",
            "zerolinecolor": "white"
           }
          },
          "shapedefaults": {
           "line": {
            "color": "#2a3f5f"
           }
          },
          "ternary": {
           "aaxis": {
            "gridcolor": "white",
            "linecolor": "white",
            "ticks": ""
           },
           "baxis": {
            "gridcolor": "white",
            "linecolor": "white",
            "ticks": ""
           },
           "bgcolor": "#E5ECF6",
           "caxis": {
            "gridcolor": "white",
            "linecolor": "white",
            "ticks": ""
           }
          },
          "title": {
           "x": 0.05
          },
          "xaxis": {
           "automargin": true,
           "gridcolor": "white",
           "linecolor": "white",
           "ticks": "",
           "title": {
            "standoff": 15
           },
           "zerolinecolor": "white",
           "zerolinewidth": 2
          },
          "yaxis": {
           "automargin": true,
           "gridcolor": "white",
           "linecolor": "white",
           "ticks": "",
           "title": {
            "standoff": 15
           },
           "zerolinecolor": "white",
           "zerolinewidth": 2
          }
         }
        },
        "title": {
         "text": "Analysis 1: What percentage of daily flow occurs during peak hours, in each system?"
        },
        "xaxis": {
         "anchor": "y",
         "autorange": true,
         "domain": [
          0,
          1
         ],
         "range": [
          -0.5,
          1.5
         ],
         "title": {
          "text": "Sistema de Transporte"
         },
         "type": "category"
        },
        "yaxis": {
         "anchor": "x",
         "autorange": true,
         "domain": [
          0,
          1
         ],
         "range": [
          0,
          105.26315789473684
         ],
         "title": {
          "text": "Porcentaje (%)"
         },
         "type": "linear"
        }
       }
      },
      "image/png": "[encoded data removed]",
      "text/html": [
       "<div>                            <div id=\"d1b3c81e-7945-4b55-a206-f4da6055ca5a\" class=\"plotly-graph-div\" style=\"height:525px; width:100%;\"></div>            <script type=\"text/javascript\">                require([\"plotly\"], function(Plotly) {                    window.PLOTLYENV=window.PLOTLYENV || {};                                    if (document.getElementById(\"d1b3c81e-7945-4b55-a206-f4da6055ca5a\")) {                    Plotly.newPlot(                        \"d1b3c81e-7945-4b55-a206-f4da6055ca5a\",                        [{\"alignmentgroup\":\"True\",\"hovertemplate\":\"peak_period=off_peak\\u003cbr\\u003eSistema=%{x}\\u003cbr\\u003ePorcentaje de entradas=%{y}\\u003cbr\\u003etext=%{text}\\u003cextra\\u003e\\u003c\\u002fextra\\u003e\",\"legendgroup\":\"off_peak\",\"marker\":{\"color\":\"#636efa\",\"pattern\":{\"shape\":\"\"}},\"name\":\"off_peak\",\"offsetgroup\":\"off_peak\",\"orientation\":\"v\",\"showlegend\":true,\"text\":[\"40.0%\",\"59.29%\"],\"textposition\":\"auto\",\"x\":[\"CDMX\",\"NYC\"],\"xaxis\":\"x\",\"y\":[40.0,59.28696472612612],\"yaxis\":\"y\",\"type\":\"bar\"},{\"alignmentgroup\":\"True\",\"hovertemplate\":\"peak_period=peak_evening\\u003cbr\\u003eSistema=%{x}\\u003cbr\\u003ePorcentaje de entradas=%{y}\\u003cbr\\u003etext=%{text}\\u003cextra\\u003e\\u003c\\u002fextra\\u003e\",\"legendgroup\":\"peak_evening\",\"marker\":{\"color\":\"#EF553B\",\"pattern\":{\"shape\":\"\"}},\"name\":\"peak_evening\",\"offsetgroup\":\"peak_evening\",\"orientation\":\"v\",\"showlegend\":true,\"text\":[\"30.0%\",\"26.21%\"],\"textposition\":\"auto\",\"x\":[\"CDMX\",\"NYC\"],\"xaxis\":\"x\",\"y\":[30.0,26.2071137555063],\"yaxis\":\"y\",\"type\":\"bar\"},{\"alignmentgroup\":\"True\",\"hovertemplate\":\"peak_period=peak_morning\\u003cbr\\u003eSistema=%{x}\\u003cbr\\u003ePorcentaje de entradas=%{y}\\u003cbr\\u003etext=%{text}\\u003cextra\\u003e\\u003c\\u002fextra\\u003e\",\"legendgroup\":\"peak_morning\",\"marker\":{\"color\":\"#00cc96\",\"pattern\":{\"shape\":\"\"}},\"name\":\"peak_morning\",\"offsetgroup\":\"peak_morning\",\"orientation\":\"v\",\"showlegend\":true,\"text\":[\"30.0%\",\"14.51%\"],\"textposition\":\"auto\",\"x\":[\"CDMX\",\"NYC\"],\"xaxis\":\"x\",\"y\":[30.0,14.505921518367575],\"yaxis\":\"y\",\"type\":\"bar\"}],                        {\"template\":{\"data\":{\"histogram2dcontour\":[{\"type\":\"histogram2dcontour\",\"colorbar\":{\"outlinewidth\":0,\"ticks\":\"\"},\"colorscale\":[[0.0,\"#0d0887\"],[0.1111111111111111,\"#46039f\"],[0.2222222222222222,\"#7201a8\"],[0.3333333333333333,\"#9c179e\"],[0.4444444444444444,\"#bd3786\"],[0.5555555555555556,\"#d8576b\"],[0.6666666666666666,\"#ed7953\"],[0.7777777777777778,\"#fb9f3a\"],[0.8888888888888888,\"#fdca26\"],[1.0,\"#f0f921\"]]}],\"choropleth\":[{\"type\":\"choropleth\",\"colorbar\":{\"outlinewidth\":0,\"ticks\":\"\"}}],\"histogram2d\":[{\"type\":\"histogram2d\",\"colorbar\":{\"outlinewidth\":0,\"ticks\":\"\"},\"colorscale\":[[0.0,\"#0d0887\"],[0.1111111111111111,\"#46039f\"],[0.2222222222222222,\"#7201a8\"],[0.3333333333333333,\"#9c179e\"],[0.4444444444444444,\"#bd3786\"],[0.5555555555555556,\"#d8576b\"],[0.6666666666666666,\"#ed7953\"],[0.7777777777777778,\"#fb9f3a\"],[0.8888888888888888,\"#fdca26\"],[1.0,\"#f0f921\"]]}],\"heatmap\":[{\"type\":\"heatmap\",\"colorbar\":{\"outlinewidth\":0,\"ticks\":\"\"},\"colorscale\":[[0.0,\"#0d0887\"],[0.1111111111111111,\"#46039f\"],[0.2222222222222222,\"#7201a8\"],[0.3333333333333333,\"#9c179e\"],[0.4444444444444444,\"#bd3786\"],[0.5555555555555556,\"#d8576b\"],[0.6666666666666666,\"#ed7953\"],[0.7777777777777778,\"#fb9f3a\"],[0.8888888888888888,\"#fdca26\"],[1.0,\"#f0f921\"]]}],\"heatmapgl\":[{\"type\":\"heatmapgl\",\"colorbar\":{\"outlinewidth\":0,\"ticks\":\"\"},\"colorscale\":[[0.0,\"#0d0887\"],[0.1111111111111111,\"#46039f\"],[0.2222222222222222,\"#7201a8\"],[0.3333333333333333,\"#9c179e\"],[0.4444444444444444,\"#bd3786\"],[0.5555555555555556,\"#d8576b\"],[0.6666666666666666,\"#ed7953\"],[0.7777777777777778,\"#fb9f3a\"],[0.8888888888888888,\"#fdca26\"],[1.0,\"#f0f921\"]]}],\"contourcarpet\":[{\"type\":\"contourcarpet\",\"colorbar\":{\"outlinewidth\":0,\"ticks\":\"\"}}],\"contour\":[{\"type\":\"contour\",\"colorbar\":{\"outlinewidth\":0,\"ticks\":\"\"},\"colorscale\":[[0.0,\"#0d0887\"],[0.1111111111111111,\"#46039f\"],[0.2222222222222222,\"#7201a8\"],[0.3333333333333333,\"#9c179e\"],[0.4444444444444444,\"#bd3786\"],[0.5555555555555556,\"#d8576b\"],[0.6666666666666666,\"#ed7953\"],[0.7777777777777778,\"#fb9f3a\"],[0.8888888888888888,\"#fdca26\"],[1.0,\"#f0f921\"]]}],\"surface\":[{\"type\":\"surface\",\"colorbar\":{\"outlinewidth\":0,\"ticks\":\"\"},\"colorscale\":[[0.0,\"#0d0887\"],[0.1111111111111111,\"#46039f\"],[0.2222222222222222,\"#7201a8\"],[0.3333333333333333,\"#9c179e\"],[0.4444444444444444,\"#bd3786\"],[0.5555555555555556,\"#d8576b\"],[0.6666666666666666,\"#ed7953\"],[0.7777777777777778,\"#fb9f3a\"],[0.8888888888888888,\"#fdca26\"],[1.0,\"#f0f921\"]]}],\"mesh3d\":[{\"type\":\"mesh3d\",\"colorbar\":{\"outlinewidth\":0,\"ticks\":\"\"}}],\"scatter\":[{\"fillpattern\":{\"fillmode\":\"overlay\",\"size\":10,\"solidity\":0.2},\"type\":\"scatter\"}],\"parcoords\":[{\"type\":\"parcoords\",\"line\":{\"colorbar\":{\"outlinewidth\":0,\"ticks\":\"\"}}}],\"scatterpolargl\":[{\"type\":\"scatterpolargl\",\"marker\":{\"colorbar\":{\"outlinewidth\":0,\"ticks\":\"\"}}}],\"bar\":[{\"error_x\":{\"color\":\"#2a3f5f\"},\"error_y\":{\"color\":\"#2a3f5f\"},\"marker\":{\"line\":{\"color\":\"#E5ECF6\",\"width\":0.5},\"pattern\":{\"fillmode\":\"overlay\",\"size\":10,\"solidity\":0.2}},\"type\":\"bar\"}],\"scattergeo\":[{\"type\":\"scattergeo\",\"marker\":{\"colorbar\":{\"outlinewidth\":0,\"ticks\":\"\"}}}],\"scatterpolar\":[{\"type\":\"scatterpolar\",\"marker\":{\"colorbar\":{\"outlinewidth\":0,\"ticks\":\"\"}}}],\"histogram\":[{\"marker\":{\"pattern\":{\"fillmode\":\"overlay\",\"size\":10,\"solidity\":0.2}},\"type\":\"histogram\"}],\"scattergl\":[{\"type\":\"scattergl\",\"marker\":{\"colorbar\":{\"outlinewidth\":0,\"ticks\":\"\"}}}],\"scatter3d\":[{\"type\":\"scatter3d\",\"line\":{\"colorbar\":{\"outlinewidth\":0,\"ticks\":\"\"}},\"marker\":{\"colorbar\":{\"outlinewidth\":0,\"ticks\":\"\"}}}],\"scattermapbox\":[{\"type\":\"scattermapbox\",\"marker\":{\"colorbar\":{\"outlinewidth\":0,\"ticks\":\"\"}}}],\"scatterternary\":[{\"type\":\"scatterternary\",\"marker\":{\"colorbar\":{\"outlinewidth\":0,\"ticks\":\"\"}}}],\"scattercarpet\":[{\"type\":\"scattercarpet\",\"marker\":{\"colorbar\":{\"outlinewidth\":0,\"ticks\":\"\"}}}],\"carpet\":[{\"aaxis\":{\"endlinecolor\":\"#2a3f5f\",\"gridcolor\":\"white\",\"linecolor\":\"white\",\"minorgridcolor\":\"white\",\"startlinecolor\":\"#2a3f5f\"},\"baxis\":{\"endlinecolor\":\"#2a3f5f\",\"gridcolor\":\"white\",\"linecolor\":\"white\",\"minorgridcolor\":\"white\",\"startlinecolor\":\"#2a3f5f\"},\"type\":\"carpet\"}],\"table\":[{\"cells\":{\"fill\":{\"color\":\"#EBF0F8\"},\"line\":{\"color\":\"white\"}},\"header\":{\"fill\":{\"color\":\"#C8D4E3\"},\"line\":{\"color\":\"white\"}},\"type\":\"table\"}],\"barpolar\":[{\"marker\":{\"line\":{\"color\":\"#E5ECF6\",\"width\":0.5},\"pattern\":{\"fillmode\":\"overlay\",\"size\":10,\"solidity\":0.2}},\"type\":\"barpolar\"}],\"pie\":[{\"automargin\":true,\"type\":\"pie\"}]},\"layout\":{\"autotypenumbers\":\"strict\",\"colorway\":[\"#636efa\",\"#EF553B\",\"#00cc96\",\"#ab63fa\",\"#FFA15A\",\"#19d3f3\",\"#FF6692\",\"#B6E880\",\"#FF97FF\",\"#FECB52\"],\"font\":{\"color\":\"#2a3f5f\"},\"hovermode\":\"closest\",\"hoverlabel\":{\"align\":\"left\"},\"paper_bgcolor\":\"white\",\"plot_bgcolor\":\"#E5ECF6\",\"polar\":{\"bgcolor\":\"#E5ECF6\",\"angularaxis\":{\"gridcolor\":\"white\",\"linecolor\":\"white\",\"ticks\":\"\"},\"radialaxis\":{\"gridcolor\":\"white\",\"linecolor\":\"white\",\"ticks\":\"\"}},\"ternary\":{\"bgcolor\":\"#E5ECF6\",\"aaxis\":{\"gridcolor\":\"white\",\"linecolor\":\"white\",\"ticks\":\"\"},\"baxis\":{\"gridcolor\":\"white\",\"linecolor\":\"white\",\"ticks\":\"\"},\"caxis\":{\"gridcolor\":\"white\",\"linecolor\":\"white\",\"ticks\":\"\"}},\"coloraxis\":{\"colorbar\":{\"outlinewidth\":0,\"ticks\":\"\"}},\"colorscale\":{\"sequential\":[[0.0,\"#0d0887\"],[0.1111111111111111,\"#46039f\"],[0.2222222222222222,\"#7201a8\"],[0.3333333333333333,\"#9c179e\"],[0.4444444444444444,\"#bd3786\"],[0.5555555555555556,\"#d8576b\"],[0.6666666666666666,\"#ed7953\"],[0.7777777777777778,\"#fb9f3a\"],[0.8888888888888888,\"#fdca26\"],[1.0,\"#f0f921\"]],\"sequentialminus\":[[0.0,\"#0d0887\"],[0.1111111111111111,\"#46039f\"],[0.2222222222222222,\"#7201a8\"],[0.3333333333333333,\"#9c179e\"],[0.4444444444444444,\"#bd3786\"],[0.5555555555555556,\"#d8576b\"],[0.6666666666666666,\"#ed7953\"],[0.7777777777777778,\"#fb9f3a\"],[0.8888888888888888,\"#fdca26\"],[1.0,\"#f0f921\"]],\"diverging\":[[0,\"#8e0152\"],[0.1,\"#c51b7d\"],[0.2,\"#de77ae\"],[0.3,\"#f1b6da\"],[0.4,\"#fde0ef\"],[0.5,\"#f7f7f7\"],[0.6,\"#e6f5d0\"],[0.7,\"#b8e186\"],[0.8,\"#7fbc41\"],[0.9,\"#4d9221\"],[1,\"#276419\"]]},\"xaxis\":{\"gridcolor\":\"white\",\"linecolor\":\"white\",\"ticks\":\"\",\"title\":{\"standoff\":15},\"zerolinecolor\":\"white\",\"automargin\":true,\"zerolinewidth\":2},\"yaxis\":{\"gridcolor\":\"white\",\"linecolor\":\"white\",\"ticks\":\"\",\"title\":{\"standoff\":15},\"zerolinecolor\":\"white\",\"automargin\":true,\"zerolinewidth\":2},\"scene\":{\"xaxis\":{\"backgroundcolor\":\"#E5ECF6\",\"gridcolor\":\"white\",\"linecolor\":\"white\",\"showbackground\":true,\"ticks\":\"\",\"zerolinecolor\":\"white\",\"gridwidth\":2},\"yaxis\":{\"backgroundcolor\":\"#E5ECF6\",\"gridcolor\":\"white\",\"linecolor\":\"white\",\"showbackground\":true,\"ticks\":\"\",\"zerolinecolor\":\"white\",\"gridwidth\":2},\"zaxis\":{\"backgroundcolor\":\"#E5ECF6\",\"gridcolor\":\"white\",\"linecolor\":\"white\",\"showbackground\":true,\"ticks\":\"\",\"zerolinecolor\":\"white\",\"gridwidth\":2}},\"shapedefaults\":{\"line\":{\"color\":\"#2a3f5f\"}},\"annotationdefaults\":{\"arrowcolor\":\"#2a3f5f\",\"arrowhead\":0,\"arrowwidth\":1},\"geo\":{\"bgcolor\":\"white\",\"landcolor\":\"#E5ECF6\",\"subunitcolor\":\"white\",\"showland\":true,\"showlakes\":true,\"lakecolor\":\"white\"},\"title\":{\"x\":0.05},\"mapbox\":{\"style\":\"light\"}}},\"xaxis\":{\"anchor\":\"y\",\"domain\":[0.0,1.0],\"title\":{\"text\":\"Sistema de Transporte\"}},\"yaxis\":{\"anchor\":\"x\",\"domain\":[0.0,1.0],\"title\":{\"text\":\"Porcentaje (%)\"}},\"legend\":{\"title\":{\"text\":\"peak_period\"},\"tracegroupgap\":0},\"title\":{\"text\":\"Analysis 1: What percentage of daily flow occurs during peak hours, in each system?\"},\"barmode\":\"stack\"},                        {\"responsive\": true}                    ).then(function(){\n",
       "                            \n",
       "var gd = document.getElementById('d1b3c81e-7945-4b55-a206-f4da6055ca5a');\n",
       "var x = new MutationObserver(function (mutations, observer) {{\n",
       "        var display = window.getComputedStyle(gd).display;\n",
       "        if (!display || display === 'none') {{\n",
       "            console.log([gd, 'removed!']);\n",
       "            Plotly.purge(gd);\n",
       "            observer.disconnect();\n",
       "        }}\n",
       "}});\n",
       "\n",
       "// Listen for the removal of the full notebook cells\n",
       "var notebookContainer = gd.closest('#notebook-container');\n",
       "if (notebookContainer) {{\n",
       "    x.observe(notebookContainer, {childList: true});\n",
       "}}\n",
       "\n",
       "// Listen for the clearing of the current output cell\n",
       "var outputEl = gd.closest('.output');\n",
       "if (outputEl) {{\n",
       "    x.observe(outputEl, {childList: true});\n",
       "}}\n",
       "\n",
       "                        })                };                });            </script>        </div>"
      ]
     },
     "metadata": {},
     "output_type": "display_data"
    }
   ],
   "source": [
    "import plotly.express as px\n",
    "\n",
    "# CDMX ya actualizado arriba\n",
    "\n",
    "# NYC: agrupación por periodo\n",
    "nyc_totals = agg_nyc.groupby(\"peak_period\")[\"total_entries\"].sum().reset_index()\n",
    "nyc_totals[\"system\"] = \"NYC\"\n",
    "\n",
    "# CDMX: agrupación por periodo\n",
    "cdmx_totals = agg_cdmx_melted.groupby(\"peak_period\")[\"total_entries\"].sum().reset_index()\n",
    "cdmx_totals[\"system\"] = \"CDMX\"\n",
    "\n",
    "# Combinar\n",
    "combined_totals = pd.concat([cdmx_totals, nyc_totals], ignore_index=True)\n",
    "\n",
    "# Convertir a porcentaje\n",
    "combined_totals[\"percent\"] = combined_totals.groupby(\"system\")[\"total_entries\"].transform(lambda x: x / x.sum() * 100)\n",
    "\n",
    "# Graficar\n",
    "fig = px.bar(\n",
    "    combined_totals,\n",
    "    x=\"system\",\n",
    "    y=\"percent\",\n",
    "    color=\"peak_period\",\n",
    "    text=combined_totals[\"percent\"].round(2).astype(str) + '%',\n",
    "    barmode=\"stack\",\n",
    "    title=\"Analysis 1: What percentage of daily flow occurs during peak hours, in each system?\",\n",
    "    labels={\"percent\": \"Porcentaje de entradas\", \"system\": \"Sistema\"}\n",
    ")\n",
    "\n",
    "fig.update_layout(yaxis_title=\"Porcentaje (%)\", xaxis_title=\"Sistema de Transporte\")\n",
    "fig.show()"
   ]
  },
  {
   "cell_type": "code",
   "execution_count": 135,
   "id": "c135a81d-85ae-476b-9702-9cc76b4d06b8",
   "metadata": {},
   "outputs": [
    {
     "data": {
      "text/plain": [
       "array(['off_peak', 'peak_evening', 'peak_morning'], dtype=object)"
      ]
     },
     "execution_count": 135,
     "metadata": {},
     "output_type": "execute_result"
    }
   ],
   "source": [
    "#Verificar qué valores hay realmente en la columna peak_period de agg_nyc:\n",
    "agg_nyc[\"peak_period\"].unique()"
   ]
  },
  {
   "cell_type": "code",
   "execution_count": 137,
   "id": "76f7a39f-a264-4f4f-97b4-6f208f543898",
   "metadata": {},
   "outputs": [],
   "source": [
    "#Verifica el resumen de agg_nyc_wide\n",
    "agg_nyc_wide = agg_nyc.pivot_table(\n",
    "    index=\"Station\",\n",
    "    values=\"total_entries\",\n",
    "    columns=\"peak_period\",\n",
    "    aggfunc=\"sum\"\n",
    ").fillna(0)\n",
    "\n",
    "agg_nyc_wide[\"total_peak\"] = agg_nyc_wide[\"peak_morning\"] + agg_nyc_wide[\"peak_evening\"]\n",
    "\n",
    "top_nyc = agg_nyc_wide.sort_values(\"total_peak\", ascending=False).head(10).reset_index()\n",
    "top_nyc[\"system\"] = \"NYC\""
   ]
  },
  {
   "cell_type": "code",
   "execution_count": 139,
   "id": "e7d3e3e9-d4f0-4be7-87b4-be0efe56ab59",
   "metadata": {},
   "outputs": [
    {
     "data": {
      "text/html": [
       "<div>\n",
       "<style scoped>\n",
       "    .dataframe tbody tr th:only-of-type {\n",
       "        vertical-align: middle;\n",
       "    }\n",
       "\n",
       "    .dataframe tbody tr th {\n",
       "        vertical-align: top;\n",
       "    }\n",
       "\n",
       "    .dataframe thead th {\n",
       "        text-align: right;\n",
       "    }\n",
       "</style>\n",
       "<table border=\"1\" class=\"dataframe\">\n",
       "  <thead>\n",
       "    <tr style=\"text-align: right;\">\n",
       "      <th>peak_period</th>\n",
       "      <th>Station</th>\n",
       "      <th>off_peak</th>\n",
       "      <th>peak_evening</th>\n",
       "      <th>peak_morning</th>\n",
       "      <th>total_peak</th>\n",
       "      <th>system</th>\n",
       "    </tr>\n",
       "  </thead>\n",
       "  <tbody>\n",
       "    <tr>\n",
       "      <th>0</th>\n",
       "      <td>34 ST-PENN STA</td>\n",
       "      <td>9545812.0</td>\n",
       "      <td>3478735.0</td>\n",
       "      <td>1756983.0</td>\n",
       "      <td>5235718.0</td>\n",
       "      <td>NYC</td>\n",
       "    </tr>\n",
       "    <tr>\n",
       "      <th>1</th>\n",
       "      <td>86 ST</td>\n",
       "      <td>6387961.0</td>\n",
       "      <td>3174294.0</td>\n",
       "      <td>919321.0</td>\n",
       "      <td>4093615.0</td>\n",
       "      <td>NYC</td>\n",
       "    </tr>\n",
       "    <tr>\n",
       "      <th>2</th>\n",
       "      <td>125 ST</td>\n",
       "      <td>5563221.0</td>\n",
       "      <td>2614980.0</td>\n",
       "      <td>1145109.0</td>\n",
       "      <td>3760089.0</td>\n",
       "      <td>NYC</td>\n",
       "    </tr>\n",
       "    <tr>\n",
       "      <th>3</th>\n",
       "      <td>34 ST-HERALD SQ</td>\n",
       "      <td>7335670.0</td>\n",
       "      <td>3194742.0</td>\n",
       "      <td>524964.0</td>\n",
       "      <td>3719706.0</td>\n",
       "      <td>NYC</td>\n",
       "    </tr>\n",
       "    <tr>\n",
       "      <th>4</th>\n",
       "      <td>GRD CNTRL-42 ST</td>\n",
       "      <td>6752579.0</td>\n",
       "      <td>2870683.0</td>\n",
       "      <td>797617.0</td>\n",
       "      <td>3668300.0</td>\n",
       "      <td>NYC</td>\n",
       "    </tr>\n",
       "    <tr>\n",
       "      <th>5</th>\n",
       "      <td>23 ST</td>\n",
       "      <td>6258387.0</td>\n",
       "      <td>3175671.0</td>\n",
       "      <td>472234.0</td>\n",
       "      <td>3647905.0</td>\n",
       "      <td>NYC</td>\n",
       "    </tr>\n",
       "    <tr>\n",
       "      <th>6</th>\n",
       "      <td>14 ST-UNION SQ</td>\n",
       "      <td>6057611.0</td>\n",
       "      <td>3011946.0</td>\n",
       "      <td>494272.0</td>\n",
       "      <td>3506218.0</td>\n",
       "      <td>NYC</td>\n",
       "    </tr>\n",
       "    <tr>\n",
       "      <th>7</th>\n",
       "      <td>FULTON ST</td>\n",
       "      <td>4716069.0</td>\n",
       "      <td>2618848.0</td>\n",
       "      <td>752204.0</td>\n",
       "      <td>3371052.0</td>\n",
       "      <td>NYC</td>\n",
       "    </tr>\n",
       "    <tr>\n",
       "      <th>8</th>\n",
       "      <td>42 ST-PORT AUTH</td>\n",
       "      <td>5646879.0</td>\n",
       "      <td>1904255.0</td>\n",
       "      <td>1384029.0</td>\n",
       "      <td>3288284.0</td>\n",
       "      <td>NYC</td>\n",
       "    </tr>\n",
       "    <tr>\n",
       "      <th>9</th>\n",
       "      <td>96 ST</td>\n",
       "      <td>4398540.0</td>\n",
       "      <td>2323120.0</td>\n",
       "      <td>810579.0</td>\n",
       "      <td>3133699.0</td>\n",
       "      <td>NYC</td>\n",
       "    </tr>\n",
       "  </tbody>\n",
       "</table>\n",
       "</div>"
      ],
      "text/plain": [
       "peak_period          Station   off_peak  peak_evening  peak_morning  \\\n",
       "0             34 ST-PENN STA  9545812.0     3478735.0     1756983.0   \n",
       "1                      86 ST  6387961.0     3174294.0      919321.0   \n",
       "2                     125 ST  5563221.0     2614980.0     1145109.0   \n",
       "3            34 ST-HERALD SQ  7335670.0     3194742.0      524964.0   \n",
       "4            GRD CNTRL-42 ST  6752579.0     2870683.0      797617.0   \n",
       "5                      23 ST  6258387.0     3175671.0      472234.0   \n",
       "6             14 ST-UNION SQ  6057611.0     3011946.0      494272.0   \n",
       "7                  FULTON ST  4716069.0     2618848.0      752204.0   \n",
       "8            42 ST-PORT AUTH  5646879.0     1904255.0     1384029.0   \n",
       "9                      96 ST  4398540.0     2323120.0      810579.0   \n",
       "\n",
       "peak_period  total_peak system  \n",
       "0             5235718.0    NYC  \n",
       "1             4093615.0    NYC  \n",
       "2             3760089.0    NYC  \n",
       "3             3719706.0    NYC  \n",
       "4             3668300.0    NYC  \n",
       "5             3647905.0    NYC  \n",
       "6             3506218.0    NYC  \n",
       "7             3371052.0    NYC  \n",
       "8             3288284.0    NYC  \n",
       "9             3133699.0    NYC  "
      ]
     },
     "execution_count": 139,
     "metadata": {},
     "output_type": "execute_result"
    }
   ],
   "source": [
    "top_nyc"
   ]
  },
  {
   "cell_type": "code",
   "execution_count": 173,
   "id": "8bad3ed9-41dc-46dc-a58e-1bd18872724e",
   "metadata": {},
   "outputs": [
    {
     "data": {
      "application/vnd.plotly.v1+json": {
       "config": {
        "plotlyServerURL": "https://plot.ly"
       },
       "data": [
        {
         "alignmentgroup": "True",
         "hovertemplate": "system=CDMX<br>Station=%{x}<br>Total de entradas en horas pico=%{y}<extra></extra>",
         "legendgroup": "CDMX",
         "marker": {
          "color": "#636efa",
          "pattern": {
           "shape": ""
          }
         },
         "name": "CDMX",
         "offsetgroup": "CDMX",
         "orientation": "v",
         "showlegend": true,
         "textposition": "auto",
         "type": "bar",
         "x": [
          "PANTITLÁN",
          "INDIOS VERDES",
          "CONSTITUCIÓN DE 1917",
          "TACUBAYA",
          "CUATRO CAMINOS",
          "TASQUEÑA",
          "PINO SUÁREZ",
          "OBSERVATORIO",
          "BUENAVISTA",
          "MERCED"
         ],
         "xaxis": "x",
         "y": [
          27595956,
          14069865.6,
          12300185.4,
          11456700,
          9093689.4,
          8691743.4,
          7330061.399999999,
          7307244.6,
          7268646,
          6869523.6
         ],
         "yaxis": "y"
        },
        {
         "alignmentgroup": "True",
         "hovertemplate": "system=NYC<br>Station=%{x}<br>Total de entradas en horas pico=%{y}<extra></extra>",
         "legendgroup": "NYC",
         "marker": {
          "color": "#EF553B",
          "pattern": {
           "shape": ""
          }
         },
         "name": "NYC",
         "offsetgroup": "NYC",
         "orientation": "v",
         "showlegend": true,
         "textposition": "auto",
         "type": "bar",
         "x": [
          "34 ST-PENN STA",
          "86 ST",
          "125 ST",
          "34 ST-HERALD SQ",
          "GRD CNTRL-42 ST",
          "23 ST",
          "14 ST-UNION SQ",
          "FULTON ST",
          "42 ST-PORT AUTH",
          "96 ST"
         ],
         "xaxis": "x",
         "y": [
          5235718,
          4093615,
          3760089,
          3719706,
          3668300,
          3647905,
          3506218,
          3371052,
          3288284,
          3133699
         ],
         "yaxis": "y"
        }
       ],
       "layout": {
        "autosize": true,
        "barmode": "relative",
        "legend": {
         "title": {
          "text": "system"
         },
         "tracegroupgap": 0
        },
        "template": {
         "data": {
          "bar": [
           {
            "error_x": {
             "color": "#2a3f5f"
            },
            "error_y": {
             "color": "#2a3f5f"
            },
            "marker": {
             "line": {
              "color": "#E5ECF6",
              "width": 0.5
             },
             "pattern": {
              "fillmode": "overlay",
              "size": 10,
              "solidity": 0.2
             }
            },
            "type": "bar"
           }
          ],
          "barpolar": [
           {
            "marker": {
             "line": {
              "color": "#E5ECF6",
              "width": 0.5
             },
             "pattern": {
              "fillmode": "overlay",
              "size": 10,
              "solidity": 0.2
             }
            },
            "type": "barpolar"
           }
          ],
          "carpet": [
           {
            "aaxis": {
             "endlinecolor": "#2a3f5f",
             "gridcolor": "white",
             "linecolor": "white",
             "minorgridcolor": "white",
             "startlinecolor": "#2a3f5f"
            },
            "baxis": {
             "endlinecolor": "#2a3f5f",
             "gridcolor": "white",
             "linecolor": "white",
             "minorgridcolor": "white",
             "startlinecolor": "#2a3f5f"
            },
            "type": "carpet"
           }
          ],
          "choropleth": [
           {
            "colorbar": {
             "outlinewidth": 0,
             "ticks": ""
            },
            "type": "choropleth"
           }
          ],
          "contour": [
           {
            "colorbar": {
             "outlinewidth": 0,
             "ticks": ""
            },
            "colorscale": [
             [
              0,
              "#0d0887"
             ],
             [
              0.1111111111111111,
              "#46039f"
             ],
             [
              0.2222222222222222,
              "#7201a8"
             ],
             [
              0.3333333333333333,
              "#9c179e"
             ],
             [
              0.4444444444444444,
              "#bd3786"
             ],
             [
              0.5555555555555556,
              "#d8576b"
             ],
             [
              0.6666666666666666,
              "#ed7953"
             ],
             [
              0.7777777777777778,
              "#fb9f3a"
             ],
             [
              0.8888888888888888,
              "#fdca26"
             ],
             [
              1,
              "#f0f921"
             ]
            ],
            "type": "contour"
           }
          ],
          "contourcarpet": [
           {
            "colorbar": {
             "outlinewidth": 0,
             "ticks": ""
            },
            "type": "contourcarpet"
           }
          ],
          "heatmap": [
           {
            "colorbar": {
             "outlinewidth": 0,
             "ticks": ""
            },
            "colorscale": [
             [
              0,
              "#0d0887"
             ],
             [
              0.1111111111111111,
              "#46039f"
             ],
             [
              0.2222222222222222,
              "#7201a8"
             ],
             [
              0.3333333333333333,
              "#9c179e"
             ],
             [
              0.4444444444444444,
              "#bd3786"
             ],
             [
              0.5555555555555556,
              "#d8576b"
             ],
             [
              0.6666666666666666,
              "#ed7953"
             ],
             [
              0.7777777777777778,
              "#fb9f3a"
             ],
             [
              0.8888888888888888,
              "#fdca26"
             ],
             [
              1,
              "#f0f921"
             ]
            ],
            "type": "heatmap"
           }
          ],
          "heatmapgl": [
           {
            "colorbar": {
             "outlinewidth": 0,
             "ticks": ""
            },
            "colorscale": [
             [
              0,
              "#0d0887"
             ],
             [
              0.1111111111111111,
              "#46039f"
             ],
             [
              0.2222222222222222,
              "#7201a8"
             ],
             [
              0.3333333333333333,
              "#9c179e"
             ],
             [
              0.4444444444444444,
              "#bd3786"
             ],
             [
              0.5555555555555556,
              "#d8576b"
             ],
             [
              0.6666666666666666,
              "#ed7953"
             ],
             [
              0.7777777777777778,
              "#fb9f3a"
             ],
             [
              0.8888888888888888,
              "#fdca26"
             ],
             [
              1,
              "#f0f921"
             ]
            ],
            "type": "heatmapgl"
           }
          ],
          "histogram": [
           {
            "marker": {
             "pattern": {
              "fillmode": "overlay",
              "size": 10,
              "solidity": 0.2
             }
            },
            "type": "histogram"
           }
          ],
          "histogram2d": [
           {
            "colorbar": {
             "outlinewidth": 0,
             "ticks": ""
            },
            "colorscale": [
             [
              0,
              "#0d0887"
             ],
             [
              0.1111111111111111,
              "#46039f"
             ],
             [
              0.2222222222222222,
              "#7201a8"
             ],
             [
              0.3333333333333333,
              "#9c179e"
             ],
             [
              0.4444444444444444,
              "#bd3786"
             ],
             [
              0.5555555555555556,
              "#d8576b"
             ],
             [
              0.6666666666666666,
              "#ed7953"
             ],
             [
              0.7777777777777778,
              "#fb9f3a"
             ],
             [
              0.8888888888888888,
              "#fdca26"
             ],
             [
              1,
              "#f0f921"
             ]
            ],
            "type": "histogram2d"
           }
          ],
          "histogram2dcontour": [
           {
            "colorbar": {
             "outlinewidth": 0,
             "ticks": ""
            },
            "colorscale": [
             [
              0,
              "#0d0887"
             ],
             [
              0.1111111111111111,
              "#46039f"
             ],
             [
              0.2222222222222222,
              "#7201a8"
             ],
             [
              0.3333333333333333,
              "#9c179e"
             ],
             [
              0.4444444444444444,
              "#bd3786"
             ],
             [
              0.5555555555555556,
              "#d8576b"
             ],
             [
              0.6666666666666666,
              "#ed7953"
             ],
             [
              0.7777777777777778,
              "#fb9f3a"
             ],
             [
              0.8888888888888888,
              "#fdca26"
             ],
             [
              1,
              "#f0f921"
             ]
            ],
            "type": "histogram2dcontour"
           }
          ],
          "mesh3d": [
           {
            "colorbar": {
             "outlinewidth": 0,
             "ticks": ""
            },
            "type": "mesh3d"
           }
          ],
          "parcoords": [
           {
            "line": {
             "colorbar": {
              "outlinewidth": 0,
              "ticks": ""
             }
            },
            "type": "parcoords"
           }
          ],
          "pie": [
           {
            "automargin": true,
            "type": "pie"
           }
          ],
          "scatter": [
           {
            "fillpattern": {
             "fillmode": "overlay",
             "size": 10,
             "solidity": 0.2
            },
            "type": "scatter"
           }
          ],
          "scatter3d": [
           {
            "line": {
             "colorbar": {
              "outlinewidth": 0,
              "ticks": ""
             }
            },
            "marker": {
             "colorbar": {
              "outlinewidth": 0,
              "ticks": ""
             }
            },
            "type": "scatter3d"
           }
          ],
          "scattercarpet": [
           {
            "marker": {
             "colorbar": {
              "outlinewidth": 0,
              "ticks": ""
             }
            },
            "type": "scattercarpet"
           }
          ],
          "scattergeo": [
           {
            "marker": {
             "colorbar": {
              "outlinewidth": 0,
              "ticks": ""
             }
            },
            "type": "scattergeo"
           }
          ],
          "scattergl": [
           {
            "marker": {
             "colorbar": {
              "outlinewidth": 0,
              "ticks": ""
             }
            },
            "type": "scattergl"
           }
          ],
          "scattermapbox": [
           {
            "marker": {
             "colorbar": {
              "outlinewidth": 0,
              "ticks": ""
             }
            },
            "type": "scattermapbox"
           }
          ],
          "scatterpolar": [
           {
            "marker": {
             "colorbar": {
              "outlinewidth": 0,
              "ticks": ""
             }
            },
            "type": "scatterpolar"
           }
          ],
          "scatterpolargl": [
           {
            "marker": {
             "colorbar": {
              "outlinewidth": 0,
              "ticks": ""
             }
            },
            "type": "scatterpolargl"
           }
          ],
          "scatterternary": [
           {
            "marker": {
             "colorbar": {
              "outlinewidth": 0,
              "ticks": ""
             }
            },
            "type": "scatterternary"
           }
          ],
          "surface": [
           {
            "colorbar": {
             "outlinewidth": 0,
             "ticks": ""
            },
            "colorscale": [
             [
              0,
              "#0d0887"
             ],
             [
              0.1111111111111111,
              "#46039f"
             ],
             [
              0.2222222222222222,
              "#7201a8"
             ],
             [
              0.3333333333333333,
              "#9c179e"
             ],
             [
              0.4444444444444444,
              "#bd3786"
             ],
             [
              0.5555555555555556,
              "#d8576b"
             ],
             [
              0.6666666666666666,
              "#ed7953"
             ],
             [
              0.7777777777777778,
              "#fb9f3a"
             ],
             [
              0.8888888888888888,
              "#fdca26"
             ],
             [
              1,
              "#f0f921"
             ]
            ],
            "type": "surface"
           }
          ],
          "table": [
           {
            "cells": {
             "fill": {
              "color": "#EBF0F8"
             },
             "line": {
              "color": "white"
             }
            },
            "header": {
             "fill": {
              "color": "#C8D4E3"
             },
             "line": {
              "color": "white"
             }
            },
            "type": "table"
           }
          ]
         },
         "layout": {
          "annotationdefaults": {
           "arrowcolor": "#2a3f5f",
           "arrowhead": 0,
           "arrowwidth": 1
          },
          "autotypenumbers": "strict",
          "coloraxis": {
           "colorbar": {
            "outlinewidth": 0,
            "ticks": ""
           }
          },
          "colorscale": {
           "diverging": [
            [
             0,
             "#8e0152"
            ],
            [
             0.1,
             "#c51b7d"
            ],
            [
             0.2,
             "#de77ae"
            ],
            [
             0.3,
             "#f1b6da"
            ],
            [
             0.4,
             "#fde0ef"
            ],
            [
             0.5,
             "#f7f7f7"
            ],
            [
             0.6,
             "#e6f5d0"
            ],
            [
             0.7,
             "#b8e186"
            ],
            [
             0.8,
             "#7fbc41"
            ],
            [
             0.9,
             "#4d9221"
            ],
            [
             1,
             "#276419"
            ]
           ],
           "sequential": [
            [
             0,
             "#0d0887"
            ],
            [
             0.1111111111111111,
             "#46039f"
            ],
            [
             0.2222222222222222,
             "#7201a8"
            ],
            [
             0.3333333333333333,
             "#9c179e"
            ],
            [
             0.4444444444444444,
             "#bd3786"
            ],
            [
             0.5555555555555556,
             "#d8576b"
            ],
            [
             0.6666666666666666,
             "#ed7953"
            ],
            [
             0.7777777777777778,
             "#fb9f3a"
            ],
            [
             0.8888888888888888,
             "#fdca26"
            ],
            [
             1,
             "#f0f921"
            ]
           ],
           "sequentialminus": [
            [
             0,
             "#0d0887"
            ],
            [
             0.1111111111111111,
             "#46039f"
            ],
            [
             0.2222222222222222,
             "#7201a8"
            ],
            [
             0.3333333333333333,
             "#9c179e"
            ],
            [
             0.4444444444444444,
             "#bd3786"
            ],
            [
             0.5555555555555556,
             "#d8576b"
            ],
            [
             0.6666666666666666,
             "#ed7953"
            ],
            [
             0.7777777777777778,
             "#fb9f3a"
            ],
            [
             0.8888888888888888,
             "#fdca26"
            ],
            [
             1,
             "#f0f921"
            ]
           ]
          },
          "colorway": [
           "#636efa",
           "#EF553B",
           "#00cc96",
           "#ab63fa",
           "#FFA15A",
           "#19d3f3",
           "#FF6692",
           "#B6E880",
           "#FF97FF",
           "#FECB52"
          ],
          "font": {
           "color": "#2a3f5f"
          },
          "geo": {
           "bgcolor": "white",
           "lakecolor": "white",
           "landcolor": "#E5ECF6",
           "showlakes": true,
           "showland": true,
           "subunitcolor": "white"
          },
          "hoverlabel": {
           "align": "left"
          },
          "hovermode": "closest",
          "mapbox": {
           "style": "light"
          },
          "paper_bgcolor": "white",
          "plot_bgcolor": "#E5ECF6",
          "polar": {
           "angularaxis": {
            "gridcolor": "white",
            "linecolor": "white",
            "ticks": ""
           },
           "bgcolor": "#E5ECF6",
           "radialaxis": {
            "gridcolor": "white",
            "linecolor": "white",
            "ticks": ""
           }
          },
          "scene": {
           "xaxis": {
            "backgroundcolor": "#E5ECF6",
            "gridcolor": "white",
            "gridwidth": 2,
            "linecolor": "white",
            "showbackground": true,
            "ticks": "",
            "zerolinecolor": "white"
           },
           "yaxis": {
            "backgroundcolor": "#E5ECF6",
            "gridcolor": "white",
            "gridwidth": 2,
            "linecolor": "white",
            "showbackground": true,
            "ticks": "",
            "zerolinecolor": "white"
           },
           "zaxis": {
            "backgroundcolor": "#E5ECF6",
            "gridcolor": "white",
            "gridwidth": 2,
            "linecolor": "white",
            "showbackground": true,
            "ticks": "",
            "zerolinecolor": "white"
           }
          },
          "shapedefaults": {
           "line": {
            "color": "#2a3f5f"
           }
          },
          "ternary": {
           "aaxis": {
            "gridcolor": "white",
            "linecolor": "white",
            "ticks": ""
           },
           "baxis": {
            "gridcolor": "white",
            "linecolor": "white",
            "ticks": ""
           },
           "bgcolor": "#E5ECF6",
           "caxis": {
            "gridcolor": "white",
            "linecolor": "white",
            "ticks": ""
           }
          },
          "title": {
           "x": 0.05
          },
          "xaxis": {
           "automargin": true,
           "gridcolor": "white",
           "linecolor": "white",
           "ticks": "",
           "title": {
            "standoff": 15
           },
           "zerolinecolor": "white",
           "zerolinewidth": 2
          },
          "yaxis": {
           "automargin": true,
           "gridcolor": "white",
           "linecolor": "white",
           "ticks": "",
           "title": {
            "standoff": 15
           },
           "zerolinecolor": "white",
           "zerolinewidth": 2
          }
         }
        },
        "title": {
         "text": "Analysis 2: Which stations have the most traffic during peak hour? (Top 10 for each city)"
        },
        "xaxis": {
         "anchor": "y",
         "autorange": true,
         "domain": [
          0,
          1
         ],
         "range": [
          -0.5,
          19.5
         ],
         "tickangle": -45,
         "title": {
          "text": "Estación"
         },
         "type": "category"
        },
        "yaxis": {
         "anchor": "x",
         "autorange": true,
         "domain": [
          0,
          1
         ],
         "range": [
          0,
          29048374.736842103
         ],
         "title": {
          "text": "Entradas (estimadas)"
         },
         "type": "linear"
        }
       }
      },
      "image/png": "[encoded data removed]",
      "text/html": [
       "<div>                            <div id=\"02c703b6-cadc-4d59-a99d-9ee9494a565b\" class=\"plotly-graph-div\" style=\"height:525px; width:100%;\"></div>            <script type=\"text/javascript\">                require([\"plotly\"], function(Plotly) {                    window.PLOTLYENV=window.PLOTLYENV || {};                                    if (document.getElementById(\"02c703b6-cadc-4d59-a99d-9ee9494a565b\")) {                    Plotly.newPlot(                        \"02c703b6-cadc-4d59-a99d-9ee9494a565b\",                        [{\"alignmentgroup\":\"True\",\"hovertemplate\":\"system=CDMX\\u003cbr\\u003eStation=%{x}\\u003cbr\\u003eTotal de entradas en horas pico=%{y}\\u003cextra\\u003e\\u003c\\u002fextra\\u003e\",\"legendgroup\":\"CDMX\",\"marker\":{\"color\":\"#636efa\",\"pattern\":{\"shape\":\"\"}},\"name\":\"CDMX\",\"offsetgroup\":\"CDMX\",\"orientation\":\"v\",\"showlegend\":true,\"textposition\":\"auto\",\"x\":[\"PANTITL\\u00c1N\",\"INDIOS VERDES\",\"CONSTITUCI\\u00d3N DE 1917\",\"TACUBAYA\",\"CUATRO CAMINOS\",\"TASQUE\\u00d1A\",\"PINO SU\\u00c1REZ\",\"OBSERVATORIO\",\"BUENAVISTA\",\"MERCED\"],\"xaxis\":\"x\",\"y\":[27595956.0,14069865.6,12300185.4,11456700.0,9093689.4,8691743.4,7330061.399999999,7307244.6,7268646.0,6869523.6],\"yaxis\":\"y\",\"type\":\"bar\"},{\"alignmentgroup\":\"True\",\"hovertemplate\":\"system=NYC\\u003cbr\\u003eStation=%{x}\\u003cbr\\u003eTotal de entradas en horas pico=%{y}\\u003cextra\\u003e\\u003c\\u002fextra\\u003e\",\"legendgroup\":\"NYC\",\"marker\":{\"color\":\"#EF553B\",\"pattern\":{\"shape\":\"\"}},\"name\":\"NYC\",\"offsetgroup\":\"NYC\",\"orientation\":\"v\",\"showlegend\":true,\"textposition\":\"auto\",\"x\":[\"34 ST-PENN STA\",\"86 ST\",\"125 ST\",\"34 ST-HERALD SQ\",\"GRD CNTRL-42 ST\",\"23 ST\",\"14 ST-UNION SQ\",\"FULTON ST\",\"42 ST-PORT AUTH\",\"96 ST\"],\"xaxis\":\"x\",\"y\":[5235718.0,4093615.0,3760089.0,3719706.0,3668300.0,3647905.0,3506218.0,3371052.0,3288284.0,3133699.0],\"yaxis\":\"y\",\"type\":\"bar\"}],                        {\"template\":{\"data\":{\"histogram2dcontour\":[{\"type\":\"histogram2dcontour\",\"colorbar\":{\"outlinewidth\":0,\"ticks\":\"\"},\"colorscale\":[[0.0,\"#0d0887\"],[0.1111111111111111,\"#46039f\"],[0.2222222222222222,\"#7201a8\"],[0.3333333333333333,\"#9c179e\"],[0.4444444444444444,\"#bd3786\"],[0.5555555555555556,\"#d8576b\"],[0.6666666666666666,\"#ed7953\"],[0.7777777777777778,\"#fb9f3a\"],[0.8888888888888888,\"#fdca26\"],[1.0,\"#f0f921\"]]}],\"choropleth\":[{\"type\":\"choropleth\",\"colorbar\":{\"outlinewidth\":0,\"ticks\":\"\"}}],\"histogram2d\":[{\"type\":\"histogram2d\",\"colorbar\":{\"outlinewidth\":0,\"ticks\":\"\"},\"colorscale\":[[0.0,\"#0d0887\"],[0.1111111111111111,\"#46039f\"],[0.2222222222222222,\"#7201a8\"],[0.3333333333333333,\"#9c179e\"],[0.4444444444444444,\"#bd3786\"],[0.5555555555555556,\"#d8576b\"],[0.6666666666666666,\"#ed7953\"],[0.7777777777777778,\"#fb9f3a\"],[0.8888888888888888,\"#fdca26\"],[1.0,\"#f0f921\"]]}],\"heatmap\":[{\"type\":\"heatmap\",\"colorbar\":{\"outlinewidth\":0,\"ticks\":\"\"},\"colorscale\":[[0.0,\"#0d0887\"],[0.1111111111111111,\"#46039f\"],[0.2222222222222222,\"#7201a8\"],[0.3333333333333333,\"#9c179e\"],[0.4444444444444444,\"#bd3786\"],[0.5555555555555556,\"#d8576b\"],[0.6666666666666666,\"#ed7953\"],[0.7777777777777778,\"#fb9f3a\"],[0.8888888888888888,\"#fdca26\"],[1.0,\"#f0f921\"]]}],\"heatmapgl\":[{\"type\":\"heatmapgl\",\"colorbar\":{\"outlinewidth\":0,\"ticks\":\"\"},\"colorscale\":[[0.0,\"#0d0887\"],[0.1111111111111111,\"#46039f\"],[0.2222222222222222,\"#7201a8\"],[0.3333333333333333,\"#9c179e\"],[0.4444444444444444,\"#bd3786\"],[0.5555555555555556,\"#d8576b\"],[0.6666666666666666,\"#ed7953\"],[0.7777777777777778,\"#fb9f3a\"],[0.8888888888888888,\"#fdca26\"],[1.0,\"#f0f921\"]]}],\"contourcarpet\":[{\"type\":\"contourcarpet\",\"colorbar\":{\"outlinewidth\":0,\"ticks\":\"\"}}],\"contour\":[{\"type\":\"contour\",\"colorbar\":{\"outlinewidth\":0,\"ticks\":\"\"},\"colorscale\":[[0.0,\"#0d0887\"],[0.1111111111111111,\"#46039f\"],[0.2222222222222222,\"#7201a8\"],[0.3333333333333333,\"#9c179e\"],[0.4444444444444444,\"#bd3786\"],[0.5555555555555556,\"#d8576b\"],[0.6666666666666666,\"#ed7953\"],[0.7777777777777778,\"#fb9f3a\"],[0.8888888888888888,\"#fdca26\"],[1.0,\"#f0f921\"]]}],\"surface\":[{\"type\":\"surface\",\"colorbar\":{\"outlinewidth\":0,\"ticks\":\"\"},\"colorscale\":[[0.0,\"#0d0887\"],[0.1111111111111111,\"#46039f\"],[0.2222222222222222,\"#7201a8\"],[0.3333333333333333,\"#9c179e\"],[0.4444444444444444,\"#bd3786\"],[0.5555555555555556,\"#d8576b\"],[0.6666666666666666,\"#ed7953\"],[0.7777777777777778,\"#fb9f3a\"],[0.8888888888888888,\"#fdca26\"],[1.0,\"#f0f921\"]]}],\"mesh3d\":[{\"type\":\"mesh3d\",\"colorbar\":{\"outlinewidth\":0,\"ticks\":\"\"}}],\"scatter\":[{\"fillpattern\":{\"fillmode\":\"overlay\",\"size\":10,\"solidity\":0.2},\"type\":\"scatter\"}],\"parcoords\":[{\"type\":\"parcoords\",\"line\":{\"colorbar\":{\"outlinewidth\":0,\"ticks\":\"\"}}}],\"scatterpolargl\":[{\"type\":\"scatterpolargl\",\"marker\":{\"colorbar\":{\"outlinewidth\":0,\"ticks\":\"\"}}}],\"bar\":[{\"error_x\":{\"color\":\"#2a3f5f\"},\"error_y\":{\"color\":\"#2a3f5f\"},\"marker\":{\"line\":{\"color\":\"#E5ECF6\",\"width\":0.5},\"pattern\":{\"fillmode\":\"overlay\",\"size\":10,\"solidity\":0.2}},\"type\":\"bar\"}],\"scattergeo\":[{\"type\":\"scattergeo\",\"marker\":{\"colorbar\":{\"outlinewidth\":0,\"ticks\":\"\"}}}],\"scatterpolar\":[{\"type\":\"scatterpolar\",\"marker\":{\"colorbar\":{\"outlinewidth\":0,\"ticks\":\"\"}}}],\"histogram\":[{\"marker\":{\"pattern\":{\"fillmode\":\"overlay\",\"size\":10,\"solidity\":0.2}},\"type\":\"histogram\"}],\"scattergl\":[{\"type\":\"scattergl\",\"marker\":{\"colorbar\":{\"outlinewidth\":0,\"ticks\":\"\"}}}],\"scatter3d\":[{\"type\":\"scatter3d\",\"line\":{\"colorbar\":{\"outlinewidth\":0,\"ticks\":\"\"}},\"marker\":{\"colorbar\":{\"outlinewidth\":0,\"ticks\":\"\"}}}],\"scattermapbox\":[{\"type\":\"scattermapbox\",\"marker\":{\"colorbar\":{\"outlinewidth\":0,\"ticks\":\"\"}}}],\"scatterternary\":[{\"type\":\"scatterternary\",\"marker\":{\"colorbar\":{\"outlinewidth\":0,\"ticks\":\"\"}}}],\"scattercarpet\":[{\"type\":\"scattercarpet\",\"marker\":{\"colorbar\":{\"outlinewidth\":0,\"ticks\":\"\"}}}],\"carpet\":[{\"aaxis\":{\"endlinecolor\":\"#2a3f5f\",\"gridcolor\":\"white\",\"linecolor\":\"white\",\"minorgridcolor\":\"white\",\"startlinecolor\":\"#2a3f5f\"},\"baxis\":{\"endlinecolor\":\"#2a3f5f\",\"gridcolor\":\"white\",\"linecolor\":\"white\",\"minorgridcolor\":\"white\",\"startlinecolor\":\"#2a3f5f\"},\"type\":\"carpet\"}],\"table\":[{\"cells\":{\"fill\":{\"color\":\"#EBF0F8\"},\"line\":{\"color\":\"white\"}},\"header\":{\"fill\":{\"color\":\"#C8D4E3\"},\"line\":{\"color\":\"white\"}},\"type\":\"table\"}],\"barpolar\":[{\"marker\":{\"line\":{\"color\":\"#E5ECF6\",\"width\":0.5},\"pattern\":{\"fillmode\":\"overlay\",\"size\":10,\"solidity\":0.2}},\"type\":\"barpolar\"}],\"pie\":[{\"automargin\":true,\"type\":\"pie\"}]},\"layout\":{\"autotypenumbers\":\"strict\",\"colorway\":[\"#636efa\",\"#EF553B\",\"#00cc96\",\"#ab63fa\",\"#FFA15A\",\"#19d3f3\",\"#FF6692\",\"#B6E880\",\"#FF97FF\",\"#FECB52\"],\"font\":{\"color\":\"#2a3f5f\"},\"hovermode\":\"closest\",\"hoverlabel\":{\"align\":\"left\"},\"paper_bgcolor\":\"white\",\"plot_bgcolor\":\"#E5ECF6\",\"polar\":{\"bgcolor\":\"#E5ECF6\",\"angularaxis\":{\"gridcolor\":\"white\",\"linecolor\":\"white\",\"ticks\":\"\"},\"radialaxis\":{\"gridcolor\":\"white\",\"linecolor\":\"white\",\"ticks\":\"\"}},\"ternary\":{\"bgcolor\":\"#E5ECF6\",\"aaxis\":{\"gridcolor\":\"white\",\"linecolor\":\"white\",\"ticks\":\"\"},\"baxis\":{\"gridcolor\":\"white\",\"linecolor\":\"white\",\"ticks\":\"\"},\"caxis\":{\"gridcolor\":\"white\",\"linecolor\":\"white\",\"ticks\":\"\"}},\"coloraxis\":{\"colorbar\":{\"outlinewidth\":0,\"ticks\":\"\"}},\"colorscale\":{\"sequential\":[[0.0,\"#0d0887\"],[0.1111111111111111,\"#46039f\"],[0.2222222222222222,\"#7201a8\"],[0.3333333333333333,\"#9c179e\"],[0.4444444444444444,\"#bd3786\"],[0.5555555555555556,\"#d8576b\"],[0.6666666666666666,\"#ed7953\"],[0.7777777777777778,\"#fb9f3a\"],[0.8888888888888888,\"#fdca26\"],[1.0,\"#f0f921\"]],\"sequentialminus\":[[0.0,\"#0d0887\"],[0.1111111111111111,\"#46039f\"],[0.2222222222222222,\"#7201a8\"],[0.3333333333333333,\"#9c179e\"],[0.4444444444444444,\"#bd3786\"],[0.5555555555555556,\"#d8576b\"],[0.6666666666666666,\"#ed7953\"],[0.7777777777777778,\"#fb9f3a\"],[0.8888888888888888,\"#fdca26\"],[1.0,\"#f0f921\"]],\"diverging\":[[0,\"#8e0152\"],[0.1,\"#c51b7d\"],[0.2,\"#de77ae\"],[0.3,\"#f1b6da\"],[0.4,\"#fde0ef\"],[0.5,\"#f7f7f7\"],[0.6,\"#e6f5d0\"],[0.7,\"#b8e186\"],[0.8,\"#7fbc41\"],[0.9,\"#4d9221\"],[1,\"#276419\"]]},\"xaxis\":{\"gridcolor\":\"white\",\"linecolor\":\"white\",\"ticks\":\"\",\"title\":{\"standoff\":15},\"zerolinecolor\":\"white\",\"automargin\":true,\"zerolinewidth\":2},\"yaxis\":{\"gridcolor\":\"white\",\"linecolor\":\"white\",\"ticks\":\"\",\"title\":{\"standoff\":15},\"zerolinecolor\":\"white\",\"automargin\":true,\"zerolinewidth\":2},\"scene\":{\"xaxis\":{\"backgroundcolor\":\"#E5ECF6\",\"gridcolor\":\"white\",\"linecolor\":\"white\",\"showbackground\":true,\"ticks\":\"\",\"zerolinecolor\":\"white\",\"gridwidth\":2},\"yaxis\":{\"backgroundcolor\":\"#E5ECF6\",\"gridcolor\":\"white\",\"linecolor\":\"white\",\"showbackground\":true,\"ticks\":\"\",\"zerolinecolor\":\"white\",\"gridwidth\":2},\"zaxis\":{\"backgroundcolor\":\"#E5ECF6\",\"gridcolor\":\"white\",\"linecolor\":\"white\",\"showbackground\":true,\"ticks\":\"\",\"zerolinecolor\":\"white\",\"gridwidth\":2}},\"shapedefaults\":{\"line\":{\"color\":\"#2a3f5f\"}},\"annotationdefaults\":{\"arrowcolor\":\"#2a3f5f\",\"arrowhead\":0,\"arrowwidth\":1},\"geo\":{\"bgcolor\":\"white\",\"landcolor\":\"#E5ECF6\",\"subunitcolor\":\"white\",\"showland\":true,\"showlakes\":true,\"lakecolor\":\"white\"},\"title\":{\"x\":0.05},\"mapbox\":{\"style\":\"light\"}}},\"xaxis\":{\"anchor\":\"y\",\"domain\":[0.0,1.0],\"title\":{\"text\":\"Estaci\\u00f3n\"},\"tickangle\":-45},\"yaxis\":{\"anchor\":\"x\",\"domain\":[0.0,1.0],\"title\":{\"text\":\"Entradas (estimadas)\"}},\"legend\":{\"title\":{\"text\":\"system\"},\"tracegroupgap\":0},\"title\":{\"text\":\"Analysis 2: Which stations have the most traffic during peak hour? (Top 10 for each city)\"},\"barmode\":\"relative\"},                        {\"responsive\": true}                    ).then(function(){\n",
       "                            \n",
       "var gd = document.getElementById('02c703b6-cadc-4d59-a99d-9ee9494a565b');\n",
       "var x = new MutationObserver(function (mutations, observer) {{\n",
       "        var display = window.getComputedStyle(gd).display;\n",
       "        if (!display || display === 'none') {{\n",
       "            console.log([gd, 'removed!']);\n",
       "            Plotly.purge(gd);\n",
       "            observer.disconnect();\n",
       "        }}\n",
       "}});\n",
       "\n",
       "// Listen for the removal of the full notebook cells\n",
       "var notebookContainer = gd.closest('#notebook-container');\n",
       "if (notebookContainer) {{\n",
       "    x.observe(notebookContainer, {childList: true});\n",
       "}}\n",
       "\n",
       "// Listen for the clearing of the current output cell\n",
       "var outputEl = gd.closest('.output');\n",
       "if (outputEl) {{\n",
       "    x.observe(outputEl, {childList: true});\n",
       "}}\n",
       "\n",
       "                        })                };                });            </script>        </div>"
      ]
     },
     "metadata": {},
     "output_type": "display_data"
    }
   ],
   "source": [
    "# --- CDMX: Top estaciones por hora pico total ---\n",
    "agg_cdmx_wide = agg_cdmx.pivot_table(index=\"estacion\", values=[\"peak_morning\", \"peak_evening\"], aggfunc=\"sum\")\n",
    "agg_cdmx_wide[\"total_peak\"] = agg_cdmx_wide[\"peak_morning\"] + agg_cdmx_wide[\"peak_evening\"]\n",
    "\n",
    "# Renombrar 'estacion' a 'Station' para unir luego\n",
    "agg_cdmx_wide = agg_cdmx_wide.reset_index().rename(columns={\"estacion\": \"Station\"})\n",
    "\n",
    "# Top 10 estaciones\n",
    "top_cdmx = agg_cdmx_wide.sort_values(\"total_peak\", ascending=False).head(10)\n",
    "top_cdmx[\"system\"] = \"CDMX\"\n",
    "\n",
    "# --- Unir ambos ---\n",
    "top_combined = pd.concat([\n",
    "    top_cdmx[[\"Station\", \"total_peak\", \"system\"]],\n",
    "    top_nyc[[\"Station\", \"total_peak\", \"system\"]]\n",
    "])\n",
    "\n",
    "# --- Gráfico de barras ---\n",
    "fig2 = px.bar(\n",
    "    top_combined,\n",
    "    x=\"Station\",\n",
    "    y=\"total_peak\",\n",
    "    color=\"system\",\n",
    "    title=\"Analysis 2: Which stations have the most traffic during peak hour? (Top 10 for each city)\",\n",
    "    labels={\"total_peak\": \"Total de entradas en horas pico\"},\n",
    ")\n",
    "\n",
    "fig2.update_layout(\n",
    "    xaxis_title=\"Estación\",\n",
    "    yaxis_title=\"Entradas (estimadas)\",\n",
    "    xaxis_tickangle=-45\n",
    ")\n",
    "\n",
    "fig2.show()"
   ]
  },
  {
   "cell_type": "code",
   "execution_count": 145,
   "id": "0e50c84e-acbd-4cc9-92ab-1d8f7e0411a3",
   "metadata": {},
   "outputs": [
    {
     "name": "stdout",
     "output_type": "stream",
     "text": [
      "Top 10 estaciones CDMX por afluencia en hora pico:\n",
      "                  Station  peak_morning  peak_evening  total_peak\n",
      "106             PANTITLÁN    13797978.0    13797978.0  27595956.0\n",
      "65          INDIOS VERDES     7034932.8     7034932.8  14069865.6\n",
      "31   CONSTITUCIÓN DE 1917     6150092.7     6150092.7  12300185.4\n",
      "137              TACUBAYA     5728350.0     5728350.0  11456700.0\n",
      "37         CUATRO CAMINOS     4546844.7     4546844.7   9093689.4\n",
      "139              TASQUEÑA     4345871.7     4345871.7   8691743.4\n",
      "111           PINO SUÁREZ     3665030.7     3665030.7   7330061.4\n",
      "101          OBSERVATORIO     3653622.3     3653622.3   7307244.6\n",
      "17             BUENAVISTA     3634323.0     3634323.0   7268646.0\n",
      "85                 MERCED     3434761.8     3434761.8   6869523.6\n",
      "\n",
      "Top 10 estaciones NYC por afluencia en hora pico:\n",
      "peak_period      peak_morning  peak_evening  total_peak\n",
      "Station                                                \n",
      "34 ST-PENN STA      1756983.0     3478735.0   5235718.0\n",
      "86 ST                919321.0     3174294.0   4093615.0\n",
      "125 ST              1145109.0     2614980.0   3760089.0\n",
      "34 ST-HERALD SQ      524964.0     3194742.0   3719706.0\n",
      "GRD CNTRL-42 ST      797617.0     2870683.0   3668300.0\n",
      "23 ST                472234.0     3175671.0   3647905.0\n",
      "14 ST-UNION SQ       494272.0     3011946.0   3506218.0\n",
      "FULTON ST            752204.0     2618848.0   3371052.0\n",
      "42 ST-PORT AUTH     1384029.0     1904255.0   3288284.0\n",
      "96 ST                810579.0     2323120.0   3133699.0\n"
     ]
    }
   ],
   "source": [
    "# Top estaciones CDMX (ya tienes agg_cdmx_wide con peak_morning y peak_evening)\n",
    "agg_cdmx_wide[\"total_peak\"] = agg_cdmx_wide[\"peak_morning\"] + agg_cdmx_wide[\"peak_evening\"]\n",
    "top_cdmx_stations = agg_cdmx_wide.sort_values(\"total_peak\", ascending=False).head(10)\n",
    "\n",
    "print(\"Top 10 estaciones CDMX por afluencia en hora pico:\")\n",
    "print(top_cdmx_stations[[\"Station\", \"peak_morning\", \"peak_evening\", \"total_peak\"]])\n",
    "\n",
    "# Para NYC (si tienes agg_nyc con peak_period, total_entries)\n",
    "agg_nyc_wide = agg_nyc.pivot_table(index=\"Station\", \n",
    "                                  columns=\"peak_period\", \n",
    "                                  values=\"total_entries\", \n",
    "                                  aggfunc=\"sum\").fillna(0)\n",
    "agg_nyc_wide[\"total_peak\"] = agg_nyc_wide.get(\"peak_morning\", 0) + agg_nyc_wide.get(\"peak_evening\", 0)\n",
    "top_nyc_stations = agg_nyc_wide.sort_values(\"total_peak\", ascending=False).head(10)\n",
    "\n",
    "print(\"\\nTop 10 estaciones NYC por afluencia en hora pico:\")\n",
    "print(top_nyc_stations[[\"peak_morning\", \"peak_evening\", \"total_peak\"]])"
   ]
  },
  {
   "cell_type": "code",
   "execution_count": 147,
   "id": "17ebbe03-c776-4e7a-8bde-e7820b813b96",
   "metadata": {},
   "outputs": [
    {
     "data": {
      "application/vnd.plotly.v1+json": {
       "config": {
        "plotlyServerURL": "https://plot.ly"
       },
       "data": [
        {
         "alignmentgroup": "True",
         "hovertemplate": "period=Peak Hours<br>Sistema=%{x}<br>Tiempo de espera promedio (minutos)=%{text}<extra></extra>",
         "legendgroup": "Peak Hours",
         "marker": {
          "color": "#636efa",
          "pattern": {
           "shape": ""
          }
         },
         "name": "Peak Hours",
         "offsetgroup": "Peak Hours",
         "orientation": "v",
         "showlegend": true,
         "text": [
          1,
          1
         ],
         "textposition": "outside",
         "texttemplate": "%{text:.1f} min",
         "type": "bar",
         "x": [
          "CDMX",
          "NYC"
         ],
         "xaxis": "x",
         "y": [
          1,
          1
         ],
         "yaxis": "y"
        },
        {
         "alignmentgroup": "True",
         "hovertemplate": "period=Off-Peak Hours<br>Sistema=%{x}<br>Tiempo de espera promedio (minutos)=%{text}<extra></extra>",
         "legendgroup": "Off-Peak Hours",
         "marker": {
          "color": "#EF553B",
          "pattern": {
           "shape": ""
          }
         },
         "name": "Off-Peak Hours",
         "offsetgroup": "Off-Peak Hours",
         "orientation": "v",
         "showlegend": true,
         "text": [
          3.5,
          3.5
         ],
         "textposition": "outside",
         "texttemplate": "%{text:.1f} min",
         "type": "bar",
         "x": [
          "CDMX",
          "NYC"
         ],
         "xaxis": "x",
         "y": [
          3.5,
          3.5
         ],
         "yaxis": "y"
        }
       ],
       "layout": {
        "autosize": true,
        "barmode": "group",
        "legend": {
         "title": {
          "text": "period"
         },
         "tracegroupgap": 0
        },
        "template": {
         "data": {
          "bar": [
           {
            "error_x": {
             "color": "#2a3f5f"
            },
            "error_y": {
             "color": "#2a3f5f"
            },
            "marker": {
             "line": {
              "color": "#E5ECF6",
              "width": 0.5
             },
             "pattern": {
              "fillmode": "overlay",
              "size": 10,
              "solidity": 0.2
             }
            },
            "type": "bar"
           }
          ],
          "barpolar": [
           {
            "marker": {
             "line": {
              "color": "#E5ECF6",
              "width": 0.5
             },
             "pattern": {
              "fillmode": "overlay",
              "size": 10,
              "solidity": 0.2
             }
            },
            "type": "barpolar"
           }
          ],
          "carpet": [
           {
            "aaxis": {
             "endlinecolor": "#2a3f5f",
             "gridcolor": "white",
             "linecolor": "white",
             "minorgridcolor": "white",
             "startlinecolor": "#2a3f5f"
            },
            "baxis": {
             "endlinecolor": "#2a3f5f",
             "gridcolor": "white",
             "linecolor": "white",
             "minorgridcolor": "white",
             "startlinecolor": "#2a3f5f"
            },
            "type": "carpet"
           }
          ],
          "choropleth": [
           {
            "colorbar": {
             "outlinewidth": 0,
             "ticks": ""
            },
            "type": "choropleth"
           }
          ],
          "contour": [
           {
            "colorbar": {
             "outlinewidth": 0,
             "ticks": ""
            },
            "colorscale": [
             [
              0,
              "#0d0887"
             ],
             [
              0.1111111111111111,
              "#46039f"
             ],
             [
              0.2222222222222222,
              "#7201a8"
             ],
             [
              0.3333333333333333,
              "#9c179e"
             ],
             [
              0.4444444444444444,
              "#bd3786"
             ],
             [
              0.5555555555555556,
              "#d8576b"
             ],
             [
              0.6666666666666666,
              "#ed7953"
             ],
             [
              0.7777777777777778,
              "#fb9f3a"
             ],
             [
              0.8888888888888888,
              "#fdca26"
             ],
             [
              1,
              "#f0f921"
             ]
            ],
            "type": "contour"
           }
          ],
          "contourcarpet": [
           {
            "colorbar": {
             "outlinewidth": 0,
             "ticks": ""
            },
            "type": "contourcarpet"
           }
          ],
          "heatmap": [
           {
            "colorbar": {
             "outlinewidth": 0,
             "ticks": ""
            },
            "colorscale": [
             [
              0,
              "#0d0887"
             ],
             [
              0.1111111111111111,
              "#46039f"
             ],
             [
              0.2222222222222222,
              "#7201a8"
             ],
             [
              0.3333333333333333,
              "#9c179e"
             ],
             [
              0.4444444444444444,
              "#bd3786"
             ],
             [
              0.5555555555555556,
              "#d8576b"
             ],
             [
              0.6666666666666666,
              "#ed7953"
             ],
             [
              0.7777777777777778,
              "#fb9f3a"
             ],
             [
              0.8888888888888888,
              "#fdca26"
             ],
             [
              1,
              "#f0f921"
             ]
            ],
            "type": "heatmap"
           }
          ],
          "heatmapgl": [
           {
            "colorbar": {
             "outlinewidth": 0,
             "ticks": ""
            },
            "colorscale": [
             [
              0,
              "#0d0887"
             ],
             [
              0.1111111111111111,
              "#46039f"
             ],
             [
              0.2222222222222222,
              "#7201a8"
             ],
             [
              0.3333333333333333,
              "#9c179e"
             ],
             [
              0.4444444444444444,
              "#bd3786"
             ],
             [
              0.5555555555555556,
              "#d8576b"
             ],
             [
              0.6666666666666666,
              "#ed7953"
             ],
             [
              0.7777777777777778,
              "#fb9f3a"
             ],
             [
              0.8888888888888888,
              "#fdca26"
             ],
             [
              1,
              "#f0f921"
             ]
            ],
            "type": "heatmapgl"
           }
          ],
          "histogram": [
           {
            "marker": {
             "pattern": {
              "fillmode": "overlay",
              "size": 10,
              "solidity": 0.2
             }
            },
            "type": "histogram"
           }
          ],
          "histogram2d": [
           {
            "colorbar": {
             "outlinewidth": 0,
             "ticks": ""
            },
            "colorscale": [
             [
              0,
              "#0d0887"
             ],
             [
              0.1111111111111111,
              "#46039f"
             ],
             [
              0.2222222222222222,
              "#7201a8"
             ],
             [
              0.3333333333333333,
              "#9c179e"
             ],
             [
              0.4444444444444444,
              "#bd3786"
             ],
             [
              0.5555555555555556,
              "#d8576b"
             ],
             [
              0.6666666666666666,
              "#ed7953"
             ],
             [
              0.7777777777777778,
              "#fb9f3a"
             ],
             [
              0.8888888888888888,
              "#fdca26"
             ],
             [
              1,
              "#f0f921"
             ]
            ],
            "type": "histogram2d"
           }
          ],
          "histogram2dcontour": [
           {
            "colorbar": {
             "outlinewidth": 0,
             "ticks": ""
            },
            "colorscale": [
             [
              0,
              "#0d0887"
             ],
             [
              0.1111111111111111,
              "#46039f"
             ],
             [
              0.2222222222222222,
              "#7201a8"
             ],
             [
              0.3333333333333333,
              "#9c179e"
             ],
             [
              0.4444444444444444,
              "#bd3786"
             ],
             [
              0.5555555555555556,
              "#d8576b"
             ],
             [
              0.6666666666666666,
              "#ed7953"
             ],
             [
              0.7777777777777778,
              "#fb9f3a"
             ],
             [
              0.8888888888888888,
              "#fdca26"
             ],
             [
              1,
              "#f0f921"
             ]
            ],
            "type": "histogram2dcontour"
           }
          ],
          "mesh3d": [
           {
            "colorbar": {
             "outlinewidth": 0,
             "ticks": ""
            },
            "type": "mesh3d"
           }
          ],
          "parcoords": [
           {
            "line": {
             "colorbar": {
              "outlinewidth": 0,
              "ticks": ""
             }
            },
            "type": "parcoords"
           }
          ],
          "pie": [
           {
            "automargin": true,
            "type": "pie"
           }
          ],
          "scatter": [
           {
            "fillpattern": {
             "fillmode": "overlay",
             "size": 10,
             "solidity": 0.2
            },
            "type": "scatter"
           }
          ],
          "scatter3d": [
           {
            "line": {
             "colorbar": {
              "outlinewidth": 0,
              "ticks": ""
             }
            },
            "marker": {
             "colorbar": {
              "outlinewidth": 0,
              "ticks": ""
             }
            },
            "type": "scatter3d"
           }
          ],
          "scattercarpet": [
           {
            "marker": {
             "colorbar": {
              "outlinewidth": 0,
              "ticks": ""
             }
            },
            "type": "scattercarpet"
           }
          ],
          "scattergeo": [
           {
            "marker": {
             "colorbar": {
              "outlinewidth": 0,
              "ticks": ""
             }
            },
            "type": "scattergeo"
           }
          ],
          "scattergl": [
           {
            "marker": {
             "colorbar": {
              "outlinewidth": 0,
              "ticks": ""
             }
            },
            "type": "scattergl"
           }
          ],
          "scattermapbox": [
           {
            "marker": {
             "colorbar": {
              "outlinewidth": 0,
              "ticks": ""
             }
            },
            "type": "scattermapbox"
           }
          ],
          "scatterpolar": [
           {
            "marker": {
             "colorbar": {
              "outlinewidth": 0,
              "ticks": ""
             }
            },
            "type": "scatterpolar"
           }
          ],
          "scatterpolargl": [
           {
            "marker": {
             "colorbar": {
              "outlinewidth": 0,
              "ticks": ""
             }
            },
            "type": "scatterpolargl"
           }
          ],
          "scatterternary": [
           {
            "marker": {
             "colorbar": {
              "outlinewidth": 0,
              "ticks": ""
             }
            },
            "type": "scatterternary"
           }
          ],
          "surface": [
           {
            "colorbar": {
             "outlinewidth": 0,
             "ticks": ""
            },
            "colorscale": [
             [
              0,
              "#0d0887"
             ],
             [
              0.1111111111111111,
              "#46039f"
             ],
             [
              0.2222222222222222,
              "#7201a8"
             ],
             [
              0.3333333333333333,
              "#9c179e"
             ],
             [
              0.4444444444444444,
              "#bd3786"
             ],
             [
              0.5555555555555556,
              "#d8576b"
             ],
             [
              0.6666666666666666,
              "#ed7953"
             ],
             [
              0.7777777777777778,
              "#fb9f3a"
             ],
             [
              0.8888888888888888,
              "#fdca26"
             ],
             [
              1,
              "#f0f921"
             ]
            ],
            "type": "surface"
           }
          ],
          "table": [
           {
            "cells": {
             "fill": {
              "color": "#EBF0F8"
             },
             "line": {
              "color": "white"
             }
            },
            "header": {
             "fill": {
              "color": "#C8D4E3"
             },
             "line": {
              "color": "white"
             }
            },
            "type": "table"
           }
          ]
         },
         "layout": {
          "annotationdefaults": {
           "arrowcolor": "#2a3f5f",
           "arrowhead": 0,
           "arrowwidth": 1
          },
          "autotypenumbers": "strict",
          "coloraxis": {
           "colorbar": {
            "outlinewidth": 0,
            "ticks": ""
           }
          },
          "colorscale": {
           "diverging": [
            [
             0,
             "#8e0152"
            ],
            [
             0.1,
             "#c51b7d"
            ],
            [
             0.2,
             "#de77ae"
            ],
            [
             0.3,
             "#f1b6da"
            ],
            [
             0.4,
             "#fde0ef"
            ],
            [
             0.5,
             "#f7f7f7"
            ],
            [
             0.6,
             "#e6f5d0"
            ],
            [
             0.7,
             "#b8e186"
            ],
            [
             0.8,
             "#7fbc41"
            ],
            [
             0.9,
             "#4d9221"
            ],
            [
             1,
             "#276419"
            ]
           ],
           "sequential": [
            [
             0,
             "#0d0887"
            ],
            [
             0.1111111111111111,
             "#46039f"
            ],
            [
             0.2222222222222222,
             "#7201a8"
            ],
            [
             0.3333333333333333,
             "#9c179e"
            ],
            [
             0.4444444444444444,
             "#bd3786"
            ],
            [
             0.5555555555555556,
             "#d8576b"
            ],
            [
             0.6666666666666666,
             "#ed7953"
            ],
            [
             0.7777777777777778,
             "#fb9f3a"
            ],
            [
             0.8888888888888888,
             "#fdca26"
            ],
            [
             1,
             "#f0f921"
            ]
           ],
           "sequentialminus": [
            [
             0,
             "#0d0887"
            ],
            [
             0.1111111111111111,
             "#46039f"
            ],
            [
             0.2222222222222222,
             "#7201a8"
            ],
            [
             0.3333333333333333,
             "#9c179e"
            ],
            [
             0.4444444444444444,
             "#bd3786"
            ],
            [
             0.5555555555555556,
             "#d8576b"
            ],
            [
             0.6666666666666666,
             "#ed7953"
            ],
            [
             0.7777777777777778,
             "#fb9f3a"
            ],
            [
             0.8888888888888888,
             "#fdca26"
            ],
            [
             1,
             "#f0f921"
            ]
           ]
          },
          "colorway": [
           "#636efa",
           "#EF553B",
           "#00cc96",
           "#ab63fa",
           "#FFA15A",
           "#19d3f3",
           "#FF6692",
           "#B6E880",
           "#FF97FF",
           "#FECB52"
          ],
          "font": {
           "color": "#2a3f5f"
          },
          "geo": {
           "bgcolor": "white",
           "lakecolor": "white",
           "landcolor": "#E5ECF6",
           "showlakes": true,
           "showland": true,
           "subunitcolor": "white"
          },
          "hoverlabel": {
           "align": "left"
          },
          "hovermode": "closest",
          "mapbox": {
           "style": "light"
          },
          "paper_bgcolor": "white",
          "plot_bgcolor": "#E5ECF6",
          "polar": {
           "angularaxis": {
            "gridcolor": "white",
            "linecolor": "white",
            "ticks": ""
           },
           "bgcolor": "#E5ECF6",
           "radialaxis": {
            "gridcolor": "white",
            "linecolor": "white",
            "ticks": ""
           }
          },
          "scene": {
           "xaxis": {
            "backgroundcolor": "#E5ECF6",
            "gridcolor": "white",
            "gridwidth": 2,
            "linecolor": "white",
            "showbackground": true,
            "ticks": "",
            "zerolinecolor": "white"
           },
           "yaxis": {
            "backgroundcolor": "#E5ECF6",
            "gridcolor": "white",
            "gridwidth": 2,
            "linecolor": "white",
            "showbackground": true,
            "ticks": "",
            "zerolinecolor": "white"
           },
           "zaxis": {
            "backgroundcolor": "#E5ECF6",
            "gridcolor": "white",
            "gridwidth": 2,
            "linecolor": "white",
            "showbackground": true,
            "ticks": "",
            "zerolinecolor": "white"
           }
          },
          "shapedefaults": {
           "line": {
            "color": "#2a3f5f"
           }
          },
          "ternary": {
           "aaxis": {
            "gridcolor": "white",
            "linecolor": "white",
            "ticks": ""
           },
           "baxis": {
            "gridcolor": "white",
            "linecolor": "white",
            "ticks": ""
           },
           "bgcolor": "#E5ECF6",
           "caxis": {
            "gridcolor": "white",
            "linecolor": "white",
            "ticks": ""
           }
          },
          "title": {
           "x": 0.05
          },
          "xaxis": {
           "automargin": true,
           "gridcolor": "white",
           "linecolor": "white",
           "ticks": "",
           "title": {
            "standoff": 15
           },
           "zerolinecolor": "white",
           "zerolinewidth": 2
          },
          "yaxis": {
           "automargin": true,
           "gridcolor": "white",
           "linecolor": "white",
           "ticks": "",
           "title": {
            "standoff": 15
           },
           "zerolinecolor": "white",
           "zerolinewidth": 2
          }
         }
        },
        "title": {
         "text": "Estimated average wait time during peak and off-peak hours by system"
        },
        "xaxis": {
         "anchor": "y",
         "autorange": true,
         "domain": [
          0,
          1
         ],
         "range": [
          -0.5,
          1.5
         ],
         "title": {
          "text": "Sistema"
         },
         "type": "category"
        },
        "yaxis": {
         "anchor": "x",
         "domain": [
          0,
          1
         ],
         "range": [
          0,
          5
         ],
         "title": {
          "text": "Tiempo de espera promedio (minutos)"
         },
         "type": "linear"
        }
       }
      },
      "image/png": "[encoded data removed]",
      "text/html": [
       "<div>                            <div id=\"1a6502cd-285b-4787-9f63-258beb20596c\" class=\"plotly-graph-div\" style=\"height:525px; width:100%;\"></div>            <script type=\"text/javascript\">                require([\"plotly\"], function(Plotly) {                    window.PLOTLYENV=window.PLOTLYENV || {};                                    if (document.getElementById(\"1a6502cd-285b-4787-9f63-258beb20596c\")) {                    Plotly.newPlot(                        \"1a6502cd-285b-4787-9f63-258beb20596c\",                        [{\"alignmentgroup\":\"True\",\"hovertemplate\":\"period=Peak Hours\\u003cbr\\u003eSistema=%{x}\\u003cbr\\u003eTiempo de espera promedio (minutos)=%{text}\\u003cextra\\u003e\\u003c\\u002fextra\\u003e\",\"legendgroup\":\"Peak Hours\",\"marker\":{\"color\":\"#636efa\",\"pattern\":{\"shape\":\"\"}},\"name\":\"Peak Hours\",\"offsetgroup\":\"Peak Hours\",\"orientation\":\"v\",\"showlegend\":true,\"text\":[1.0,1.0],\"textposition\":\"outside\",\"x\":[\"CDMX\",\"NYC\"],\"xaxis\":\"x\",\"y\":[1.0,1.0],\"yaxis\":\"y\",\"type\":\"bar\",\"texttemplate\":\"%{text:.1f} min\"},{\"alignmentgroup\":\"True\",\"hovertemplate\":\"period=Off-Peak Hours\\u003cbr\\u003eSistema=%{x}\\u003cbr\\u003eTiempo de espera promedio (minutos)=%{text}\\u003cextra\\u003e\\u003c\\u002fextra\\u003e\",\"legendgroup\":\"Off-Peak Hours\",\"marker\":{\"color\":\"#EF553B\",\"pattern\":{\"shape\":\"\"}},\"name\":\"Off-Peak Hours\",\"offsetgroup\":\"Off-Peak Hours\",\"orientation\":\"v\",\"showlegend\":true,\"text\":[3.5,3.5],\"textposition\":\"outside\",\"x\":[\"CDMX\",\"NYC\"],\"xaxis\":\"x\",\"y\":[3.5,3.5],\"yaxis\":\"y\",\"type\":\"bar\",\"texttemplate\":\"%{text:.1f} min\"}],                        {\"template\":{\"data\":{\"histogram2dcontour\":[{\"type\":\"histogram2dcontour\",\"colorbar\":{\"outlinewidth\":0,\"ticks\":\"\"},\"colorscale\":[[0.0,\"#0d0887\"],[0.1111111111111111,\"#46039f\"],[0.2222222222222222,\"#7201a8\"],[0.3333333333333333,\"#9c179e\"],[0.4444444444444444,\"#bd3786\"],[0.5555555555555556,\"#d8576b\"],[0.6666666666666666,\"#ed7953\"],[0.7777777777777778,\"#fb9f3a\"],[0.8888888888888888,\"#fdca26\"],[1.0,\"#f0f921\"]]}],\"choropleth\":[{\"type\":\"choropleth\",\"colorbar\":{\"outlinewidth\":0,\"ticks\":\"\"}}],\"histogram2d\":[{\"type\":\"histogram2d\",\"colorbar\":{\"outlinewidth\":0,\"ticks\":\"\"},\"colorscale\":[[0.0,\"#0d0887\"],[0.1111111111111111,\"#46039f\"],[0.2222222222222222,\"#7201a8\"],[0.3333333333333333,\"#9c179e\"],[0.4444444444444444,\"#bd3786\"],[0.5555555555555556,\"#d8576b\"],[0.6666666666666666,\"#ed7953\"],[0.7777777777777778,\"#fb9f3a\"],[0.8888888888888888,\"#fdca26\"],[1.0,\"#f0f921\"]]}],\"heatmap\":[{\"type\":\"heatmap\",\"colorbar\":{\"outlinewidth\":0,\"ticks\":\"\"},\"colorscale\":[[0.0,\"#0d0887\"],[0.1111111111111111,\"#46039f\"],[0.2222222222222222,\"#7201a8\"],[0.3333333333333333,\"#9c179e\"],[0.4444444444444444,\"#bd3786\"],[0.5555555555555556,\"#d8576b\"],[0.6666666666666666,\"#ed7953\"],[0.7777777777777778,\"#fb9f3a\"],[0.8888888888888888,\"#fdca26\"],[1.0,\"#f0f921\"]]}],\"heatmapgl\":[{\"type\":\"heatmapgl\",\"colorbar\":{\"outlinewidth\":0,\"ticks\":\"\"},\"colorscale\":[[0.0,\"#0d0887\"],[0.1111111111111111,\"#46039f\"],[0.2222222222222222,\"#7201a8\"],[0.3333333333333333,\"#9c179e\"],[0.4444444444444444,\"#bd3786\"],[0.5555555555555556,\"#d8576b\"],[0.6666666666666666,\"#ed7953\"],[0.7777777777777778,\"#fb9f3a\"],[0.8888888888888888,\"#fdca26\"],[1.0,\"#f0f921\"]]}],\"contourcarpet\":[{\"type\":\"contourcarpet\",\"colorbar\":{\"outlinewidth\":0,\"ticks\":\"\"}}],\"contour\":[{\"type\":\"contour\",\"colorbar\":{\"outlinewidth\":0,\"ticks\":\"\"},\"colorscale\":[[0.0,\"#0d0887\"],[0.1111111111111111,\"#46039f\"],[0.2222222222222222,\"#7201a8\"],[0.3333333333333333,\"#9c179e\"],[0.4444444444444444,\"#bd3786\"],[0.5555555555555556,\"#d8576b\"],[0.6666666666666666,\"#ed7953\"],[0.7777777777777778,\"#fb9f3a\"],[0.8888888888888888,\"#fdca26\"],[1.0,\"#f0f921\"]]}],\"surface\":[{\"type\":\"surface\",\"colorbar\":{\"outlinewidth\":0,\"ticks\":\"\"},\"colorscale\":[[0.0,\"#0d0887\"],[0.1111111111111111,\"#46039f\"],[0.2222222222222222,\"#7201a8\"],[0.3333333333333333,\"#9c179e\"],[0.4444444444444444,\"#bd3786\"],[0.5555555555555556,\"#d8576b\"],[0.6666666666666666,\"#ed7953\"],[0.7777777777777778,\"#fb9f3a\"],[0.8888888888888888,\"#fdca26\"],[1.0,\"#f0f921\"]]}],\"mesh3d\":[{\"type\":\"mesh3d\",\"colorbar\":{\"outlinewidth\":0,\"ticks\":\"\"}}],\"scatter\":[{\"fillpattern\":{\"fillmode\":\"overlay\",\"size\":10,\"solidity\":0.2},\"type\":\"scatter\"}],\"parcoords\":[{\"type\":\"parcoords\",\"line\":{\"colorbar\":{\"outlinewidth\":0,\"ticks\":\"\"}}}],\"scatterpolargl\":[{\"type\":\"scatterpolargl\",\"marker\":{\"colorbar\":{\"outlinewidth\":0,\"ticks\":\"\"}}}],\"bar\":[{\"error_x\":{\"color\":\"#2a3f5f\"},\"error_y\":{\"color\":\"#2a3f5f\"},\"marker\":{\"line\":{\"color\":\"#E5ECF6\",\"width\":0.5},\"pattern\":{\"fillmode\":\"overlay\",\"size\":10,\"solidity\":0.2}},\"type\":\"bar\"}],\"scattergeo\":[{\"type\":\"scattergeo\",\"marker\":{\"colorbar\":{\"outlinewidth\":0,\"ticks\":\"\"}}}],\"scatterpolar\":[{\"type\":\"scatterpolar\",\"marker\":{\"colorbar\":{\"outlinewidth\":0,\"ticks\":\"\"}}}],\"histogram\":[{\"marker\":{\"pattern\":{\"fillmode\":\"overlay\",\"size\":10,\"solidity\":0.2}},\"type\":\"histogram\"}],\"scattergl\":[{\"type\":\"scattergl\",\"marker\":{\"colorbar\":{\"outlinewidth\":0,\"ticks\":\"\"}}}],\"scatter3d\":[{\"type\":\"scatter3d\",\"line\":{\"colorbar\":{\"outlinewidth\":0,\"ticks\":\"\"}},\"marker\":{\"colorbar\":{\"outlinewidth\":0,\"ticks\":\"\"}}}],\"scattermapbox\":[{\"type\":\"scattermapbox\",\"marker\":{\"colorbar\":{\"outlinewidth\":0,\"ticks\":\"\"}}}],\"scatterternary\":[{\"type\":\"scatterternary\",\"marker\":{\"colorbar\":{\"outlinewidth\":0,\"ticks\":\"\"}}}],\"scattercarpet\":[{\"type\":\"scattercarpet\",\"marker\":{\"colorbar\":{\"outlinewidth\":0,\"ticks\":\"\"}}}],\"carpet\":[{\"aaxis\":{\"endlinecolor\":\"#2a3f5f\",\"gridcolor\":\"white\",\"linecolor\":\"white\",\"minorgridcolor\":\"white\",\"startlinecolor\":\"#2a3f5f\"},\"baxis\":{\"endlinecolor\":\"#2a3f5f\",\"gridcolor\":\"white\",\"linecolor\":\"white\",\"minorgridcolor\":\"white\",\"startlinecolor\":\"#2a3f5f\"},\"type\":\"carpet\"}],\"table\":[{\"cells\":{\"fill\":{\"color\":\"#EBF0F8\"},\"line\":{\"color\":\"white\"}},\"header\":{\"fill\":{\"color\":\"#C8D4E3\"},\"line\":{\"color\":\"white\"}},\"type\":\"table\"}],\"barpolar\":[{\"marker\":{\"line\":{\"color\":\"#E5ECF6\",\"width\":0.5},\"pattern\":{\"fillmode\":\"overlay\",\"size\":10,\"solidity\":0.2}},\"type\":\"barpolar\"}],\"pie\":[{\"automargin\":true,\"type\":\"pie\"}]},\"layout\":{\"autotypenumbers\":\"strict\",\"colorway\":[\"#636efa\",\"#EF553B\",\"#00cc96\",\"#ab63fa\",\"#FFA15A\",\"#19d3f3\",\"#FF6692\",\"#B6E880\",\"#FF97FF\",\"#FECB52\"],\"font\":{\"color\":\"#2a3f5f\"},\"hovermode\":\"closest\",\"hoverlabel\":{\"align\":\"left\"},\"paper_bgcolor\":\"white\",\"plot_bgcolor\":\"#E5ECF6\",\"polar\":{\"bgcolor\":\"#E5ECF6\",\"angularaxis\":{\"gridcolor\":\"white\",\"linecolor\":\"white\",\"ticks\":\"\"},\"radialaxis\":{\"gridcolor\":\"white\",\"linecolor\":\"white\",\"ticks\":\"\"}},\"ternary\":{\"bgcolor\":\"#E5ECF6\",\"aaxis\":{\"gridcolor\":\"white\",\"linecolor\":\"white\",\"ticks\":\"\"},\"baxis\":{\"gridcolor\":\"white\",\"linecolor\":\"white\",\"ticks\":\"\"},\"caxis\":{\"gridcolor\":\"white\",\"linecolor\":\"white\",\"ticks\":\"\"}},\"coloraxis\":{\"colorbar\":{\"outlinewidth\":0,\"ticks\":\"\"}},\"colorscale\":{\"sequential\":[[0.0,\"#0d0887\"],[0.1111111111111111,\"#46039f\"],[0.2222222222222222,\"#7201a8\"],[0.3333333333333333,\"#9c179e\"],[0.4444444444444444,\"#bd3786\"],[0.5555555555555556,\"#d8576b\"],[0.6666666666666666,\"#ed7953\"],[0.7777777777777778,\"#fb9f3a\"],[0.8888888888888888,\"#fdca26\"],[1.0,\"#f0f921\"]],\"sequentialminus\":[[0.0,\"#0d0887\"],[0.1111111111111111,\"#46039f\"],[0.2222222222222222,\"#7201a8\"],[0.3333333333333333,\"#9c179e\"],[0.4444444444444444,\"#bd3786\"],[0.5555555555555556,\"#d8576b\"],[0.6666666666666666,\"#ed7953\"],[0.7777777777777778,\"#fb9f3a\"],[0.8888888888888888,\"#fdca26\"],[1.0,\"#f0f921\"]],\"diverging\":[[0,\"#8e0152\"],[0.1,\"#c51b7d\"],[0.2,\"#de77ae\"],[0.3,\"#f1b6da\"],[0.4,\"#fde0ef\"],[0.5,\"#f7f7f7\"],[0.6,\"#e6f5d0\"],[0.7,\"#b8e186\"],[0.8,\"#7fbc41\"],[0.9,\"#4d9221\"],[1,\"#276419\"]]},\"xaxis\":{\"gridcolor\":\"white\",\"linecolor\":\"white\",\"ticks\":\"\",\"title\":{\"standoff\":15},\"zerolinecolor\":\"white\",\"automargin\":true,\"zerolinewidth\":2},\"yaxis\":{\"gridcolor\":\"white\",\"linecolor\":\"white\",\"ticks\":\"\",\"title\":{\"standoff\":15},\"zerolinecolor\":\"white\",\"automargin\":true,\"zerolinewidth\":2},\"scene\":{\"xaxis\":{\"backgroundcolor\":\"#E5ECF6\",\"gridcolor\":\"white\",\"linecolor\":\"white\",\"showbackground\":true,\"ticks\":\"\",\"zerolinecolor\":\"white\",\"gridwidth\":2},\"yaxis\":{\"backgroundcolor\":\"#E5ECF6\",\"gridcolor\":\"white\",\"linecolor\":\"white\",\"showbackground\":true,\"ticks\":\"\",\"zerolinecolor\":\"white\",\"gridwidth\":2},\"zaxis\":{\"backgroundcolor\":\"#E5ECF6\",\"gridcolor\":\"white\",\"linecolor\":\"white\",\"showbackground\":true,\"ticks\":\"\",\"zerolinecolor\":\"white\",\"gridwidth\":2}},\"shapedefaults\":{\"line\":{\"color\":\"#2a3f5f\"}},\"annotationdefaults\":{\"arrowcolor\":\"#2a3f5f\",\"arrowhead\":0,\"arrowwidth\":1},\"geo\":{\"bgcolor\":\"white\",\"landcolor\":\"#E5ECF6\",\"subunitcolor\":\"white\",\"showland\":true,\"showlakes\":true,\"lakecolor\":\"white\"},\"title\":{\"x\":0.05},\"mapbox\":{\"style\":\"light\"}}},\"xaxis\":{\"anchor\":\"y\",\"domain\":[0.0,1.0],\"title\":{\"text\":\"Sistema\"}},\"yaxis\":{\"anchor\":\"x\",\"domain\":[0.0,1.0],\"title\":{\"text\":\"Tiempo de espera promedio (minutos)\"},\"range\":[0,5]},\"legend\":{\"title\":{\"text\":\"period\"},\"tracegroupgap\":0},\"title\":{\"text\":\"Estimated average wait time during peak and off-peak hours by system\"},\"barmode\":\"group\"},                        {\"responsive\": true}                    ).then(function(){\n",
       "                            \n",
       "var gd = document.getElementById('1a6502cd-285b-4787-9f63-258beb20596c');\n",
       "var x = new MutationObserver(function (mutations, observer) {{\n",
       "        var display = window.getComputedStyle(gd).display;\n",
       "        if (!display || display === 'none') {{\n",
       "            console.log([gd, 'removed!']);\n",
       "            Plotly.purge(gd);\n",
       "            observer.disconnect();\n",
       "        }}\n",
       "}});\n",
       "\n",
       "// Listen for the removal of the full notebook cells\n",
       "var notebookContainer = gd.closest('#notebook-container');\n",
       "if (notebookContainer) {{\n",
       "    x.observe(notebookContainer, {childList: true});\n",
       "}}\n",
       "\n",
       "// Listen for the clearing of the current output cell\n",
       "var outputEl = gd.closest('.output');\n",
       "if (outputEl) {{\n",
       "    x.observe(outputEl, {childList: true});\n",
       "}}\n",
       "\n",
       "                        })                };                });            </script>        </div>"
      ]
     },
     "metadata": {},
     "output_type": "display_data"
    }
   ],
   "source": [
    "# Supuestos tiempos de espera (minutos)\n",
    "wait_times = {\n",
    "    \"peak\": 1,        # Promedio 1 min en peak\n",
    "    \"off_peak\": 3.5   # Promedio 3.5 min en off-peak\n",
    "}\n",
    "\n",
    "# Porcentajes de afluencia para CDMX y NYC\n",
    "affluence_percent = {\n",
    "    \"CDMX\": {\"peak_morning\": 30, \"peak_evening\": 30, \"off_peak\": 40},\n",
    "    \"NYC\": {\"peak_morning\": 14.51, \"peak_evening\": 26.21, \"off_peak\": 59.29}\n",
    "}\n",
    "\n",
    "# Calcular tiempos ponderados por sistema y periodo\n",
    "data = []\n",
    "for system, periods in affluence_percent.items():\n",
    "    peak_total_percent = periods[\"peak_morning\"] + periods[\"peak_evening\"]\n",
    "    off_peak_percent = periods[\"off_peak\"]\n",
    "\n",
    "    # Tiempo ponderado en peak y off-peak\n",
    "    peak_wait = wait_times[\"peak\"]\n",
    "    off_peak_wait = wait_times[\"off_peak\"]\n",
    "\n",
    "    data.append({\n",
    "        \"system\": system,\n",
    "        \"period\": \"Peak Hours\",\n",
    "        \"avg_wait_time_min\": peak_wait,\n",
    "        \"affluence_percent\": peak_total_percent\n",
    "    })\n",
    "    data.append({\n",
    "        \"system\": system,\n",
    "        \"period\": \"Off-Peak Hours\",\n",
    "        \"avg_wait_time_min\": off_peak_wait,\n",
    "        \"affluence_percent\": off_peak_percent\n",
    "    })\n",
    "\n",
    "df_wait = pd.DataFrame(data)\n",
    "\n",
    "# Graficar tiempo de espera estimado vs afluencia para cada sistema y periodo\n",
    "fig3 = px.bar(\n",
    "    df_wait,\n",
    "    x=\"system\",\n",
    "    y=\"avg_wait_time_min\",\n",
    "    color=\"period\",\n",
    "    barmode=\"group\",\n",
    "    text=\"avg_wait_time_min\",\n",
    "    labels={\"avg_wait_time_min\": \"Tiempo de espera promedio (minutos)\", \"system\": \"Sistema\"},\n",
    "    title=\"Estimated average wait time during peak and off-peak hours by system\"\n",
    ")\n",
    "\n",
    "fig3.update_traces(texttemplate=\"%{text:.1f} min\", textposition=\"outside\")\n",
    "fig3.update_layout(yaxis_range=[0, 5], yaxis_title=\"Tiempo de espera promedio (minutos)\")\n",
    "fig3.show()"
   ]
  },
  {
   "cell_type": "code",
   "execution_count": 163,
   "id": "1d35d27a-980e-4442-85d0-7cfced081e36",
   "metadata": {},
   "outputs": [
    {
     "name": "stdout",
     "output_type": "stream",
     "text": [
      "                   datetime Station    Entries  entries_diff\n",
      "6044430 2021-01-02 03:00:00    1 AV   15512620           0.0\n",
      "6044436 2021-01-02 03:00:00    1 AV   61216301    45703681.0\n",
      "6044442 2021-01-02 03:00:00    1 AV  370876227   309659926.0\n",
      "6044448 2021-01-02 03:00:00    1 AV    2614082           0.0\n",
      "6044454 2021-01-02 03:00:00    1 AV    6655790     4041708.0\n",
      "6044460 2021-01-02 03:00:00    1 AV     181842           0.0\n",
      "6044466 2021-01-02 03:00:00    1 AV     133070           0.0\n",
      "6044472 2021-01-02 03:00:00    1 AV      89717           0.0\n",
      "6044478 2021-01-02 03:00:00    1 AV      68422           0.0\n",
      "6044484 2021-01-02 03:00:00    1 AV      79897       11475.0\n"
     ]
    }
   ],
   "source": [
    "df_nyc['datetime'] = pd.to_datetime(df_nyc['datetime'])\n",
    "df_nyc = df_nyc.sort_values(['Station', 'datetime'])\n",
    "\n",
    "# Diferencia horaria de entradas por estación\n",
    "df_nyc['entries_diff'] = df_nyc.groupby('Station')['Entries'].diff()\n",
    "\n",
    "# Limpiar: eliminar o ajustar valores negativos (que no deberían pasar si los datos son acumulados)\n",
    "df_nyc['entries_diff'] = df_nyc['entries_diff'].clip(lower=0).fillna(0)\n",
    "\n",
    "print(df_nyc[['datetime', 'Station', 'Entries', 'entries_diff']].head(10))"
   ]
  },
  {
   "cell_type": "code",
   "execution_count": 171,
   "id": "9113fd15-c865-485f-b587-dfcb3f748780",
   "metadata": {},
   "outputs": [
    {
     "name": "stdout",
     "output_type": "stream",
     "text": [
      "  Station   peak_period  entries_diff\n",
      "0    1 AV      off_peak  7.413035e+11\n",
      "1    1 AV  peak_evening  1.854608e+11\n",
      "2    1 AV  peak_morning  1.874320e+11\n",
      "3  103 ST      off_peak  8.541177e+10\n",
      "4  103 ST  peak_evening  2.143756e+10\n"
     ]
    }
   ],
   "source": [
    "# Clasificar por periodos de hora pico y off-peak\n",
    "def classify_peak(hour):\n",
    "    if 6 <= hour < 10:\n",
    "        return \"peak_morning\"\n",
    "    elif 16 <= hour < 20:\n",
    "        return \"peak_evening\"\n",
    "    else:\n",
    "        return \"off_peak\"\n",
    "\n",
    "df_nyc['hour'] = df_nyc['datetime'].dt.hour\n",
    "df_nyc['peak_period'] = df_nyc['hour'].apply(classify_peak)\n",
    "\n",
    "# Agrupar por estación y periodo para sumar entradas estimadas (diferencias)\n",
    "agg_nyc = df_nyc.groupby(['Station', 'peak_period'])['entries_diff'].sum().reset_index()\n",
    "\n",
    "# Ver diferencias en flujo entre periodos\n",
    "print(agg_nyc.head())"
   ]
  },
  {
   "cell_type": "code",
   "execution_count": null,
   "id": "46fe52f9-c0a6-41d5-9e59-421b782ed2ae",
   "metadata": {},
   "outputs": [],
   "source": []
  }
 ],
 "metadata": {
  "kernelspec": {
   "display_name": "Python [conda env:base] *",
   "language": "python",
   "name": "conda-base-py"
  },
  "language_info": {
   "codemirror_mode": {
    "name": "ipython",
    "version": 3
   },
   "file_extension": ".py",
   "mimetype": "text/x-python",
   "name": "python",
   "nbconvert_exporter": "python",
   "pygments_lexer": "ipython3",
   "version": "3.12.7"
  }
 },
 "nbformat": 4,
 "nbformat_minor": 5
}
